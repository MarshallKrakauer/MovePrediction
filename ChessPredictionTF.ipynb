{
 "cells": [
  {
   "cell_type": "markdown",
   "metadata": {},
   "source": [
    "# Setup"
   ]
  },
  {
   "cell_type": "code",
   "execution_count": 2,
   "metadata": {},
   "outputs": [],
   "source": [
    "from collections import Counter\n",
    "import copy\n",
    "import seaborn as sns\n",
    "import matplotlib.pyplot as plt\n",
    "import numpy as np\n",
    "import pandas as pd\n",
    "from sklearn.calibration import CalibratedClassifierCV, calibration_curve\n",
    "from sklearn.ensemble import RandomForestClassifier\n",
    "from sklearn.metrics import confusion_matrix, roc_curve, roc_auc_score\n",
    "from sklearn.model_selection import GridSearchCV, train_test_split\n",
    "from sklearn.preprocessing import StandardScaler\n",
    "from sklearn.svm import SVC\n",
    "from skopt import BayesSearchCV\n",
    "from skopt.space import Real, Categorical, Integer\n",
    "import statsmodels.formula.api as smf\n",
    "import tensorflow\n",
    "from tensorflow.keras.models import Sequential\n",
    "from tensorflow.keras.layers import Dense, Dropout, LeakyReLU"
   ]
  },
  {
   "cell_type": "code",
   "execution_count": 71,
   "metadata": {},
   "outputs": [],
   "source": [
    "def analyze_accuracy(y_test, y_pred_prob, y_pred_class):\n",
    "    naive_pred = [1 for i in range(len(y_pred_class))]\n",
    "    \n",
    "    ns_auc = roc_auc_score(y_test, naive_pred)\n",
    "    md_auc = roc_auc_score(y_test, y_pred_prob)\n",
    "    print('No Skill: ROC AUC=%.3f' % (ns_auc))\n",
    "    print('Model   : ROC AUC=%.3f' % (md_auc))\n",
    "    \n",
    "    cm = confusion_matrix(y_test, y_pred_class)\n",
    "    sns.heatmap(cm, annot=True)\n",
    "    plt.show()\n",
    "    \n",
    "    ns_fpr, ns_tpr, _ = roc_curve(y_test, naive_pred)\n",
    "    lr_fpr, lr_tpr, _ = roc_curve(y_test, y_pred_prob)\n",
    "    # plot the roc curve for the model\n",
    "    plt.plot(ns_fpr, ns_tpr, linestyle='--', label='No Skill')\n",
    "    plt.plot(lr_fpr, lr_tpr, marker='.', label='Model')\n",
    "    plt.xlabel('False Positive Rate')\n",
    "    plt.ylabel('True Positive Rate')\n",
    "    # show the legend\n",
    "    plt.legend()\n",
    "    # show the plot\n",
    "    plt.show()"
   ]
  },
  {
   "cell_type": "code",
   "execution_count": 74,
   "metadata": {},
   "outputs": [],
   "source": [
    "def plot_calibration(y_test, y_prob):\n",
    "    fop, mpv = calibration_curve(y_test,y_prob, n_bins=10, normalize=True)\n",
    "    # plot perfectly calibrated\n",
    "    plt.plot([0, 1], [0, 1], linestyle='--')\n",
    "    # plot model reliability\n",
    "    plt.plot(mpv, fop, marker='.')\n",
    "    plt.show()"
   ]
  },
  {
   "cell_type": "code",
   "execution_count": 34,
   "metadata": {},
   "outputs": [],
   "source": [
    "def setup_chess_data():\n",
    "    df = pd.read_csv(\"chess_king_rook_dataset.csv\")\n",
    "    \n",
    "    df['win'] = df['result'] != 'draw'\n",
    "    df['win'] = df['win'].astype(int)\n",
    "    \n",
    "    for col in df.columns:\n",
    "        if \"rank\" in col:\n",
    "            df[col] = df[col].astype(str)\n",
    "\n",
    "    dummy_df = copy.deepcopy(df)\n",
    "    del dummy_df['result']\n",
    "    \n",
    "    dummy_df = pd.get_dummies(dummy_df)\n",
    "    for col in dummy_df.columns:\n",
    "        dummy_df[col] = dummy_df[col].astype(float)\n",
    "    dummy_df['result'] = df['result']\n",
    "    \n",
    "    col_list = []\n",
    "    for col in dummy_df.columns:\n",
    "        if col != 'win' and col != 'result':\n",
    "            col_list.append(col)\n",
    "\n",
    "    X = dummy_df.loc[:, col_list]\n",
    "    y = dummy_df['win']\n",
    "    X_train, X_test, y_train, y_test = train_test_split(X, y, test_size=0.2, random_state=0, stratify=y)\n",
    "    \n",
    "    return X_train, X_test, y_train, y_test"
   ]
  },
  {
   "cell_type": "code",
   "execution_count": 35,
   "metadata": {},
   "outputs": [],
   "source": [
    "X_train, X_test, y_train, y_test = setup_chess_data()"
   ]
  },
  {
   "cell_type": "markdown",
   "metadata": {},
   "source": [
    "# First NN Model"
   ]
  },
  {
   "cell_type": "code",
   "execution_count": 63,
   "metadata": {},
   "outputs": [],
   "source": [
    "model = Sequential()\n",
    "model.add(Dropout(0.2))\n",
    "model.add(Dense(12, input_dim=40, activation='relu'))\n",
    "model.add(Dropout(0.2))\n",
    "model.add(Dense(8, activation='relu'))\n",
    "model.add(Dense(1, activation='sigmoid'))"
   ]
  },
  {
   "cell_type": "code",
   "execution_count": 64,
   "metadata": {},
   "outputs": [],
   "source": [
    "model.compile(loss='binary_crossentropy', optimizer='adam', metrics=['accuracy'])"
   ]
  },
  {
   "cell_type": "code",
   "execution_count": 65,
   "metadata": {},
   "outputs": [
    {
     "name": "stdout",
     "output_type": "stream",
     "text": [
      "Train on 22444 samples\n",
      "Epoch 1/100\n",
      "22444/22444 [==============================] - 4s 168us/sample - loss: 0.3281 - accuracy: 0.8994\n",
      "Epoch 2/100\n",
      "22444/22444 [==============================] - 3s 130us/sample - loss: 0.3004 - accuracy: 0.9003\n",
      "Epoch 3/100\n",
      "22444/22444 [==============================] - 3s 133us/sample - loss: 0.2731 - accuracy: 0.9005\n",
      "Epoch 4/100\n",
      "22444/22444 [==============================] - 3s 153us/sample - loss: 0.2536 - accuracy: 0.9012\n",
      "Epoch 5/100\n",
      "22444/22444 [==============================] - 3s 145us/sample - loss: 0.2369 - accuracy: 0.9020\n",
      "Epoch 6/100\n",
      "22444/22444 [==============================] - 5s 205us/sample - loss: 0.2300 - accuracy: 0.9044\n",
      "Epoch 7/100\n",
      "22444/22444 [==============================] - 3s 139us/sample - loss: 0.2241 - accuracy: 0.9075\n",
      "Epoch 8/100\n",
      "22444/22444 [==============================] - 3s 125us/sample - loss: 0.2223 - accuracy: 0.9087\n",
      "Epoch 9/100\n",
      "22444/22444 [==============================] - 3s 129us/sample - loss: 0.2169 - accuracy: 0.9096\n",
      "Epoch 10/100\n",
      "22444/22444 [==============================] - 3s 126us/sample - loss: 0.2118 - accuracy: 0.9128\n",
      "Epoch 11/100\n",
      "22444/22444 [==============================] - 3s 142us/sample - loss: 0.2159 - accuracy: 0.9118\n",
      "Epoch 12/100\n",
      "22444/22444 [==============================] - 3s 141us/sample - loss: 0.2123 - accuracy: 0.9142\n",
      "Epoch 13/100\n",
      "22444/22444 [==============================] - 3s 120us/sample - loss: 0.2120 - accuracy: 0.9123\n",
      "Epoch 14/100\n",
      "22444/22444 [==============================] - 3s 118us/sample - loss: 0.2062 - accuracy: 0.9124\n",
      "Epoch 15/100\n",
      "22444/22444 [==============================] - 3s 120us/sample - loss: 0.2067 - accuracy: 0.9136\n",
      "Epoch 16/100\n",
      "22444/22444 [==============================] - 3s 134us/sample - loss: 0.2067 - accuracy: 0.9139\n",
      "Epoch 17/100\n",
      "22444/22444 [==============================] - 3s 143us/sample - loss: 0.2012 - accuracy: 0.9165\n",
      "Epoch 18/100\n",
      "22444/22444 [==============================] - 4s 175us/sample - loss: 0.2019 - accuracy: 0.9141\n",
      "Epoch 19/100\n",
      "22444/22444 [==============================] - 4s 166us/sample - loss: 0.2007 - accuracy: 0.9162\n",
      "Epoch 20/100\n",
      "22444/22444 [==============================] - 4s 185us/sample - loss: 0.2006 - accuracy: 0.9143\n",
      "Epoch 21/100\n",
      "22444/22444 [==============================] - 3s 142us/sample - loss: 0.1995 - accuracy: 0.9167\n",
      "Epoch 22/100\n",
      "22444/22444 [==============================] - 3s 138us/sample - loss: 0.1969 - accuracy: 0.9163\n",
      "Epoch 23/100\n",
      "22444/22444 [==============================] - 3s 140us/sample - loss: 0.1965 - accuracy: 0.9157\n",
      "Epoch 24/100\n",
      "22444/22444 [==============================] - 3s 127us/sample - loss: 0.1941 - accuracy: 0.9161\n",
      "Epoch 25/100\n",
      "22444/22444 [==============================] - 3s 145us/sample - loss: 0.1952 - accuracy: 0.9192\n",
      "Epoch 26/100\n",
      "22444/22444 [==============================] - 3s 140us/sample - loss: 0.1949 - accuracy: 0.9169\n",
      "Epoch 27/100\n",
      "22444/22444 [==============================] - 3s 130us/sample - loss: 0.1954 - accuracy: 0.9153\n",
      "Epoch 28/100\n",
      "22444/22444 [==============================] - 3s 128us/sample - loss: 0.1944 - accuracy: 0.9174\n",
      "Epoch 29/100\n",
      "22444/22444 [==============================] - 3s 129us/sample - loss: 0.1912 - accuracy: 0.9188\n",
      "Epoch 30/100\n",
      "22444/22444 [==============================] - 3s 127us/sample - loss: 0.1942 - accuracy: 0.9170\n",
      "Epoch 31/100\n",
      "22444/22444 [==============================] - 3s 142us/sample - loss: 0.1931 - accuracy: 0.9166\n",
      "Epoch 32/100\n",
      "22444/22444 [==============================] - 3s 127us/sample - loss: 0.1939 - accuracy: 0.9158\n",
      "Epoch 33/100\n",
      "22444/22444 [==============================] - 3s 130us/sample - loss: 0.1889 - accuracy: 0.9178\n",
      "Epoch 34/100\n",
      "22444/22444 [==============================] - 3s 127us/sample - loss: 0.1874 - accuracy: 0.9202\n",
      "Epoch 35/100\n",
      "22444/22444 [==============================] - 3s 124us/sample - loss: 0.1890 - accuracy: 0.9192\n",
      "Epoch 36/100\n",
      "22444/22444 [==============================] - 3s 128us/sample - loss: 0.1895 - accuracy: 0.9176\n",
      "Epoch 37/100\n",
      "22444/22444 [==============================] - 3s 139us/sample - loss: 0.1911 - accuracy: 0.9170\n",
      "Epoch 38/100\n",
      "22444/22444 [==============================] - 3s 125us/sample - loss: 0.1918 - accuracy: 0.9158\n",
      "Epoch 39/100\n",
      "22444/22444 [==============================] - 3s 126us/sample - loss: 0.1882 - accuracy: 0.9193\n",
      "Epoch 40/100\n",
      "22444/22444 [==============================] - 3s 131us/sample - loss: 0.1876 - accuracy: 0.9197\n",
      "Epoch 41/100\n",
      "22444/22444 [==============================] - 3s 127us/sample - loss: 0.1883 - accuracy: 0.9194\n",
      "Epoch 42/100\n",
      "22444/22444 [==============================] - 3s 143us/sample - loss: 0.1872 - accuracy: 0.9214\n",
      "Epoch 43/100\n",
      "22444/22444 [==============================] - 3s 136us/sample - loss: 0.1879 - accuracy: 0.9201\n",
      "Epoch 44/100\n",
      "22444/22444 [==============================] - 3s 132us/sample - loss: 0.1888 - accuracy: 0.9202\n",
      "Epoch 45/100\n",
      "22444/22444 [==============================] - 3s 126us/sample - loss: 0.1823 - accuracy: 0.9211\n",
      "Epoch 46/100\n",
      "22444/22444 [==============================] - 3s 126us/sample - loss: 0.1843 - accuracy: 0.9206\n",
      "Epoch 47/100\n",
      "22444/22444 [==============================] - 3s 131us/sample - loss: 0.1871 - accuracy: 0.9205\n",
      "Epoch 48/100\n",
      "22444/22444 [==============================] - 3s 128us/sample - loss: 0.1873 - accuracy: 0.9203\n",
      "Epoch 49/100\n",
      "22444/22444 [==============================] - 3s 120us/sample - loss: 0.1911 - accuracy: 0.9201\n",
      "Epoch 50/100\n",
      "22444/22444 [==============================] - 3s 120us/sample - loss: 0.1879 - accuracy: 0.9188\n",
      "Epoch 51/100\n",
      "22444/22444 [==============================] - 3s 122us/sample - loss: 0.1904 - accuracy: 0.9177\n",
      "Epoch 52/100\n",
      "22444/22444 [==============================] - 3s 120us/sample - loss: 0.1874 - accuracy: 0.9179\n",
      "Epoch 53/100\n",
      "22444/22444 [==============================] - 3s 133us/sample - loss: 0.1874 - accuracy: 0.9190\n",
      "Epoch 54/100\n",
      "22444/22444 [==============================] - 3s 133us/sample - loss: 0.1884 - accuracy: 0.9188\n",
      "Epoch 55/100\n",
      "22444/22444 [==============================] - 4s 161us/sample - loss: 0.1879 - accuracy: 0.9202\n",
      "Epoch 56/100\n",
      "22444/22444 [==============================] - 3s 149us/sample - loss: 0.1866 - accuracy: 0.9200\n",
      "Epoch 57/100\n",
      "22444/22444 [==============================] - 3s 153us/sample - loss: 0.1829 - accuracy: 0.9227\n",
      "Epoch 58/100\n",
      "22444/22444 [==============================] - 4s 164us/sample - loss: 0.1885 - accuracy: 0.9199\n",
      "Epoch 59/100\n",
      "22444/22444 [==============================] - 4s 163us/sample - loss: 0.1892 - accuracy: 0.9210\n",
      "Epoch 60/100\n",
      "22444/22444 [==============================] - 3s 144us/sample - loss: 0.1828 - accuracy: 0.9219\n",
      "Epoch 61/100\n",
      "22444/22444 [==============================] - 3s 152us/sample - loss: 0.1843 - accuracy: 0.9235\n",
      "Epoch 62/100\n",
      "22444/22444 [==============================] - 4s 194us/sample - loss: 0.1889 - accuracy: 0.9199\n",
      "Epoch 63/100\n",
      "22444/22444 [==============================] - 4s 189us/sample - loss: 0.1869 - accuracy: 0.9209\n",
      "Epoch 64/100\n",
      "22444/22444 [==============================] - 4s 164us/sample - loss: 0.1850 - accuracy: 0.9206\n",
      "Epoch 65/100\n",
      "22444/22444 [==============================] - 3s 155us/sample - loss: 0.1834 - accuracy: 0.9228\n",
      "Epoch 66/100\n",
      "22444/22444 [==============================] - 3s 134us/sample - loss: 0.1839 - accuracy: 0.9235\n",
      "Epoch 67/100\n",
      "22444/22444 [==============================] - 3s 143us/sample - loss: 0.1851 - accuracy: 0.9226\n",
      "Epoch 68/100\n",
      "22444/22444 [==============================] - 3s 122us/sample - loss: 0.1856 - accuracy: 0.9212\n",
      "Epoch 69/100\n",
      "22444/22444 [==============================] - 3s 123us/sample - loss: 0.1819 - accuracy: 0.9231\n",
      "Epoch 70/100\n",
      "22444/22444 [==============================] - 3s 124us/sample - loss: 0.1836 - accuracy: 0.9231\n",
      "Epoch 71/100\n",
      "22444/22444 [==============================] - 3s 127us/sample - loss: 0.1820 - accuracy: 0.9222\n",
      "Epoch 72/100\n",
      "22444/22444 [==============================] - 3s 154us/sample - loss: 0.1836 - accuracy: 0.9211\n",
      "Epoch 73/100\n",
      "22444/22444 [==============================] - 3s 135us/sample - loss: 0.1802 - accuracy: 0.9232\n",
      "Epoch 74/100\n",
      "22444/22444 [==============================] - 3s 127us/sample - loss: 0.1818 - accuracy: 0.9247\n",
      "Epoch 75/100\n"
     ]
    },
    {
     "name": "stdout",
     "output_type": "stream",
     "text": [
      "22444/22444 [==============================] - 3s 121us/sample - loss: 0.1779 - accuracy: 0.9254\n",
      "Epoch 76/100\n",
      "22444/22444 [==============================] - 3s 128us/sample - loss: 0.1852 - accuracy: 0.9227\n",
      "Epoch 77/100\n",
      "22444/22444 [==============================] - 3s 123us/sample - loss: 0.1838 - accuracy: 0.9238\n",
      "Epoch 78/100\n",
      "22444/22444 [==============================] - 3s 140us/sample - loss: 0.1816 - accuracy: 0.9225\n",
      "Epoch 79/100\n",
      "22444/22444 [==============================] - 3s 123us/sample - loss: 0.1830 - accuracy: 0.9225\n",
      "Epoch 80/100\n",
      "22444/22444 [==============================] - 3s 120us/sample - loss: 0.1829 - accuracy: 0.9228\n",
      "Epoch 81/100\n",
      "22444/22444 [==============================] - 3s 123us/sample - loss: 0.1850 - accuracy: 0.9198\n",
      "Epoch 82/100\n",
      "22444/22444 [==============================] - 3s 122us/sample - loss: 0.1820 - accuracy: 0.9230\n",
      "Epoch 83/100\n",
      "22444/22444 [==============================] - 3s 123us/sample - loss: 0.1831 - accuracy: 0.9234\n",
      "Epoch 84/100\n",
      "22444/22444 [==============================] - 4s 160us/sample - loss: 0.1825 - accuracy: 0.9239\n",
      "Epoch 85/100\n",
      "22444/22444 [==============================] - 3s 146us/sample - loss: 0.1829 - accuracy: 0.9224\n",
      "Epoch 86/100\n",
      "22444/22444 [==============================] - 3s 138us/sample - loss: 0.1811 - accuracy: 0.9232\n",
      "Epoch 87/100\n",
      "22444/22444 [==============================] - 3s 134us/sample - loss: 0.1809 - accuracy: 0.9247\n",
      "Epoch 88/100\n",
      "22444/22444 [==============================] - 3s 144us/sample - loss: 0.1820 - accuracy: 0.9248\n",
      "Epoch 89/100\n",
      "22444/22444 [==============================] - 3s 153us/sample - loss: 0.1781 - accuracy: 0.9258\n",
      "Epoch 90/100\n",
      "22444/22444 [==============================] - 3s 146us/sample - loss: 0.1814 - accuracy: 0.9257\n",
      "Epoch 91/100\n",
      "22444/22444 [==============================] - 3s 147us/sample - loss: 0.1795 - accuracy: 0.9256\n",
      "Epoch 92/100\n",
      "22444/22444 [==============================] - 3s 147us/sample - loss: 0.1791 - accuracy: 0.9248\n",
      "Epoch 93/100\n",
      "22444/22444 [==============================] - 4s 161us/sample - loss: 0.1811 - accuracy: 0.9239\n",
      "Epoch 94/100\n",
      "22444/22444 [==============================] - 3s 146us/sample - loss: 0.1813 - accuracy: 0.9255\n",
      "Epoch 95/100\n",
      "22444/22444 [==============================] - 3s 145us/sample - loss: 0.1787 - accuracy: 0.9277\n",
      "Epoch 96/100\n",
      "22444/22444 [==============================] - 3s 147us/sample - loss: 0.1781 - accuracy: 0.9263\n",
      "Epoch 97/100\n",
      "22444/22444 [==============================] - 3s 145us/sample - loss: 0.1795 - accuracy: 0.9258\n",
      "Epoch 98/100\n",
      "22444/22444 [==============================] - 4s 158us/sample - loss: 0.1769 - accuracy: 0.9274\n",
      "Epoch 99/100\n",
      "22444/22444 [==============================] - 3s 147us/sample - loss: 0.1791 - accuracy: 0.9263\n",
      "Epoch 100/100\n",
      "22444/22444 [==============================] - 3s 144us/sample - loss: 0.1779 - accuracy: 0.9266\n"
     ]
    },
    {
     "data": {
      "text/plain": [
       "<tensorflow.python.keras.callbacks.History at 0x1916c607d08>"
      ]
     },
     "execution_count": 65,
     "metadata": {},
     "output_type": "execute_result"
    }
   ],
   "source": [
    "model.fit(X_train.values, y_train.values, epochs=100, batch_size=10)"
   ]
  },
  {
   "cell_type": "code",
   "execution_count": 70,
   "metadata": {},
   "outputs": [],
   "source": [
    "y_pred_prob = model.predict(X_test.values)\n",
    "y_pred_class = [int(x >= 0.5) for x in y_pred_prob]"
   ]
  },
  {
   "cell_type": "markdown",
   "metadata": {},
   "source": [
    "## Accuracy and Calibration"
   ]
  },
  {
   "cell_type": "code",
   "execution_count": 72,
   "metadata": {},
   "outputs": [
    {
     "name": "stdout",
     "output_type": "stream",
     "text": [
      "No Skill: ROC AUC=0.500\n",
      "Model   : ROC AUC=0.980\n"
     ]
    },
    {
     "data": {
      "image/png": "[encoded data removed]",
      "text/plain": [
       "<Figure size 432x288 with 2 Axes>"
      ]
     },
     "metadata": {
      "needs_background": "light"
     },
     "output_type": "display_data"
    },
    {
     "data": {
      "image/png": "[encoded data removed]",
      "text/plain": [
       "<Figure size 432x288 with 1 Axes>"
      ]
     },
     "metadata": {
      "needs_background": "light"
     },
     "output_type": "display_data"
    }
   ],
   "source": [
    "analyze_accuracy(y_test, y_pred_prob, y_pred_class)"
   ]
  },
  {
   "cell_type": "code",
   "execution_count": 76,
   "metadata": {},
   "outputs": [
    {
     "data": {
      "image/png": "[encoded data removed]",
      "text/plain": [
       "<Figure size 432x288 with 1 Axes>"
      ]
     },
     "metadata": {
      "needs_background": "light"
     },
     "output_type": "display_data"
    }
   ],
   "source": [
    "plot_calibration(y_test, y_pred_prob)"
   ]
  },
  {
   "cell_type": "markdown",
   "metadata": {},
   "source": [
    "## Second Model: Leakly Relu"
   ]
  },
  {
   "cell_type": "code",
   "execution_count": 79,
   "metadata": {},
   "outputs": [],
   "source": [
    "lrelu = lambda x: tensorflow.keras.activations.relu(x, alpha=0.1)\n",
    "\n",
    "lr_model = Sequential()\n",
    "lr_model.add(Dropout(0.2))\n",
    "lr_model.add(Dense(12, input_dim=40, activation=lrelu))\n",
    "lr_model.add(Dropout(0.2))\n",
    "lr_model.add(Dense(8, activation=lrelu))\n",
    "lr_model.add(Dense(1, activation='sigmoid'))"
   ]
  },
  {
   "cell_type": "code",
   "execution_count": 81,
   "metadata": {},
   "outputs": [],
   "source": [
    "lr_model.compile(loss='binary_crossentropy', optimizer='adam', metrics=['accuracy'])"
   ]
  },
  {
   "cell_type": "code",
   "execution_count": 83,
   "metadata": {},
   "outputs": [
    {
     "name": "stdout",
     "output_type": "stream",
     "text": [
      "Train on 22444 samples\n",
      "Epoch 1/100\n",
      "22444/22444 [==============================] - 6s 258us/sample - loss: 0.1798 - accuracy: 0.9225\n",
      "Epoch 2/100\n",
      "22444/22444 [==============================] - 6s 265us/sample - loss: 0.1769 - accuracy: 0.9233\n",
      "Epoch 3/100\n",
      "22444/22444 [==============================] - 6s 282us/sample - loss: 0.1796 - accuracy: 0.9224\n",
      "Epoch 4/100\n",
      "22444/22444 [==============================] - 7s 309us/sample - loss: 0.1798 - accuracy: 0.9228\n",
      "Epoch 5/100\n",
      "22444/22444 [==============================] - 6s 266us/sample - loss: 0.1780 - accuracy: 0.9243\n",
      "Epoch 6/100\n",
      "22444/22444 [==============================] - 6s 270us/sample - loss: 0.1761 - accuracy: 0.9251\n",
      "Epoch 7/100\n",
      "22444/22444 [==============================] - 7s 295us/sample - loss: 0.1797 - accuracy: 0.9239\n",
      "Epoch 8/100\n",
      "22444/22444 [==============================] - 6s 273us/sample - loss: 0.1798 - accuracy: 0.9228\n",
      "Epoch 9/100\n",
      "22444/22444 [==============================] - 6s 270us/sample - loss: 0.1772 - accuracy: 0.9218\n",
      "Epoch 10/100\n",
      "22444/22444 [==============================] - 6s 280us/sample - loss: 0.1783 - accuracy: 0.9234\n",
      "Epoch 11/100\n",
      "22444/22444 [==============================] - 7s 310us/sample - loss: 0.1786 - accuracy: 0.9227\n",
      "Epoch 12/100\n",
      "22444/22444 [==============================] - 7s 303us/sample - loss: 0.1756 - accuracy: 0.9241\n",
      "Epoch 13/100\n",
      "22444/22444 [==============================] - 8s 339us/sample - loss: 0.1777 - accuracy: 0.9243\n",
      "Epoch 14/100\n",
      "22444/22444 [==============================] - 8s 339us/sample - loss: 0.1780 - accuracy: 0.9252\n",
      "Epoch 15/100\n",
      "22444/22444 [==============================] - 7s 323us/sample - loss: 0.1812 - accuracy: 0.9228\n",
      "Epoch 16/100\n",
      "22444/22444 [==============================] - 7s 309us/sample - loss: 0.1761 - accuracy: 0.9252\n",
      "Epoch 17/100\n",
      "22444/22444 [==============================] - 7s 317us/sample - loss: 0.1791 - accuracy: 0.9227\n",
      "Epoch 18/100\n",
      "22444/22444 [==============================] - 7s 328us/sample - loss: 0.1740 - accuracy: 0.9228\n",
      "Epoch 19/100\n",
      "22444/22444 [==============================] - 7s 306us/sample - loss: 0.1782 - accuracy: 0.9226\n",
      "Epoch 20/100\n",
      "22444/22444 [==============================] - 7s 303us/sample - loss: 0.1746 - accuracy: 0.9247\n",
      "Epoch 21/100\n",
      "22444/22444 [==============================] - 7s 312us/sample - loss: 0.1766 - accuracy: 0.9250\n",
      "Epoch 22/100\n",
      "22444/22444 [==============================] - 7s 316us/sample - loss: 0.1773 - accuracy: 0.9251\n",
      "Epoch 23/100\n",
      "22444/22444 [==============================] - 6s 283us/sample - loss: 0.1755 - accuracy: 0.9253\n",
      "Epoch 24/100\n",
      "22444/22444 [==============================] - 7s 304us/sample - loss: 0.1779 - accuracy: 0.9236\n",
      "Epoch 25/100\n",
      "22444/22444 [==============================] - 6s 281us/sample - loss: 0.1788 - accuracy: 0.9233\n",
      "Epoch 26/100\n",
      "22444/22444 [==============================] - 6s 282us/sample - loss: 0.1759 - accuracy: 0.9234\n",
      "Epoch 27/100\n",
      "22444/22444 [==============================] - 6s 282us/sample - loss: 0.1754 - accuracy: 0.9261\n",
      "Epoch 28/100\n",
      "22444/22444 [==============================] - 6s 279us/sample - loss: 0.1730 - accuracy: 0.9272\n",
      "Epoch 29/100\n",
      "22444/22444 [==============================] - 7s 291us/sample - loss: 0.1724 - accuracy: 0.9263\n",
      "Epoch 30/100\n",
      "22444/22444 [==============================] - 7s 298us/sample - loss: 0.1750 - accuracy: 0.9255\n",
      "Epoch 31/100\n",
      "22444/22444 [==============================] - 7s 298us/sample - loss: 0.1731 - accuracy: 0.9254\n",
      "Epoch 32/100\n",
      "22444/22444 [==============================] - 6s 268us/sample - loss: 0.1747 - accuracy: 0.9267\n",
      "Epoch 33/100\n",
      "22444/22444 [==============================] - 5s 243us/sample - loss: 0.1731 - accuracy: 0.9256\n",
      "Epoch 34/100\n",
      "22444/22444 [==============================] - 5s 241us/sample - loss: 0.1730 - accuracy: 0.9268\n",
      "Epoch 35/100\n",
      "22444/22444 [==============================] - 6s 246us/sample - loss: 0.1760 - accuracy: 0.9240\n",
      "Epoch 36/100\n",
      "22444/22444 [==============================] - 5s 243us/sample - loss: 0.1750 - accuracy: 0.9237\n",
      "Epoch 37/100\n",
      "22444/22444 [==============================] - 5s 240us/sample - loss: 0.1790 - accuracy: 0.9229\n",
      "Epoch 38/100\n",
      "22444/22444 [==============================] - 6s 250us/sample - loss: 0.1745 - accuracy: 0.9241\n",
      "Epoch 39/100\n",
      "22444/22444 [==============================] - 5s 241us/sample - loss: 0.1777 - accuracy: 0.9217\n",
      "Epoch 40/100\n",
      "22444/22444 [==============================] - 5s 240us/sample - loss: 0.1744 - accuracy: 0.9252\n",
      "Epoch 41/100\n",
      "22444/22444 [==============================] - 5s 245us/sample - loss: 0.1733 - accuracy: 0.9261\n",
      "Epoch 42/100\n",
      "22444/22444 [==============================] - 5s 240us/sample - loss: 0.1732 - accuracy: 0.9266\n",
      "Epoch 43/100\n",
      "22444/22444 [==============================] - 5s 241us/sample - loss: 0.1730 - accuracy: 0.9255\n",
      "Epoch 44/100\n",
      "22444/22444 [==============================] - 5s 242us/sample - loss: 0.1750 - accuracy: 0.9239\n",
      "Epoch 45/100\n",
      "22444/22444 [==============================] - 5s 240us/sample - loss: 0.1743 - accuracy: 0.9272\n",
      "Epoch 46/100\n",
      "22444/22444 [==============================] - 5s 243us/sample - loss: 0.1733 - accuracy: 0.9246\n",
      "Epoch 47/100\n",
      "22444/22444 [==============================] - 5s 244us/sample - loss: 0.1786 - accuracy: 0.9246\n",
      "Epoch 48/100\n",
      "22444/22444 [==============================] - 5s 242us/sample - loss: 0.1746 - accuracy: 0.9254\n",
      "Epoch 49/100\n",
      "22444/22444 [==============================] - 5s 242us/sample - loss: 0.1746 - accuracy: 0.9244\n",
      "Epoch 50/100\n",
      "22444/22444 [==============================] - 5s 241us/sample - loss: 0.1748 - accuracy: 0.9278\n",
      "Epoch 51/100\n",
      "22444/22444 [==============================] - 5s 241us/sample - loss: 0.1741 - accuracy: 0.9257\n",
      "Epoch 52/100\n",
      "22444/22444 [==============================] - 6s 250us/sample - loss: 0.1738 - accuracy: 0.9264\n",
      "Epoch 53/100\n",
      "22444/22444 [==============================] - 5s 238us/sample - loss: 0.1706 - accuracy: 0.9289\n",
      "Epoch 54/100\n",
      "22444/22444 [==============================] - 5s 239us/sample - loss: 0.1734 - accuracy: 0.9269\n",
      "Epoch 55/100\n",
      "22444/22444 [==============================] - 5s 243us/sample - loss: 0.1719 - accuracy: 0.9268\n",
      "Epoch 56/100\n",
      "22444/22444 [==============================] - 5s 239us/sample - loss: 0.1722 - accuracy: 0.9276\n",
      "Epoch 57/100\n",
      "22444/22444 [==============================] - 5s 238us/sample - loss: 0.1735 - accuracy: 0.9255\n",
      "Epoch 58/100\n",
      "22444/22444 [==============================] - 5s 240us/sample - loss: 0.1764 - accuracy: 0.9251\n",
      "Epoch 59/100\n",
      "22444/22444 [==============================] - 5s 242us/sample - loss: 0.1768 - accuracy: 0.9233\n",
      "Epoch 60/100\n",
      "22444/22444 [==============================] - 5s 240us/sample - loss: 0.1757 - accuracy: 0.9255\n",
      "Epoch 61/100\n",
      "22444/22444 [==============================] - 6s 247us/sample - loss: 0.1726 - accuracy: 0.9244\n",
      "Epoch 62/100\n",
      "22444/22444 [==============================] - 5s 236us/sample - loss: 0.1724 - accuracy: 0.9261\n",
      "Epoch 63/100\n",
      "22444/22444 [==============================] - 7s 312us/sample - loss: 0.1751 - accuracy: 0.9250\n",
      "Epoch 64/100\n",
      "22444/22444 [==============================] - 6s 290us/sample - loss: 0.1752 - accuracy: 0.9231\n",
      "Epoch 65/100\n",
      "22444/22444 [==============================] - 7s 311us/sample - loss: 0.1748 - accuracy: 0.9251\n",
      "Epoch 66/100\n",
      "22444/22444 [==============================] - 7s 294us/sample - loss: 0.1720 - accuracy: 0.9264\n",
      "Epoch 67/100\n",
      "22444/22444 [==============================] - 7s 300us/sample - loss: 0.1735 - accuracy: 0.9245\n",
      "Epoch 68/100\n",
      "22444/22444 [==============================] - 7s 311us/sample - loss: 0.1760 - accuracy: 0.9239\n",
      "Epoch 69/100\n",
      "22444/22444 [==============================] - 7s 302us/sample - loss: 0.1728 - accuracy: 0.9268\n",
      "Epoch 70/100\n",
      "22444/22444 [==============================] - 7s 312us/sample - loss: 0.1714 - accuracy: 0.9252\n",
      "Epoch 71/100\n",
      "22444/22444 [==============================] - 7s 297us/sample - loss: 0.1761 - accuracy: 0.9220\n",
      "Epoch 72/100\n",
      "22444/22444 [==============================] - 7s 303us/sample - loss: 0.1730 - accuracy: 0.9255\n",
      "Epoch 73/100\n",
      "22444/22444 [==============================] - 7s 302us/sample - loss: 0.1721 - accuracy: 0.9259\n",
      "Epoch 74/100\n",
      "22444/22444 [==============================] - 7s 310us/sample - loss: 0.1776 - accuracy: 0.9255\n",
      "Epoch 75/100\n"
     ]
    },
    {
     "name": "stdout",
     "output_type": "stream",
     "text": [
      "22444/22444 [==============================] - 6s 264us/sample - loss: 0.1721 - accuracy: 0.9260\n",
      "Epoch 76/100\n",
      "22444/22444 [==============================] - 6s 262us/sample - loss: 0.1735 - accuracy: 0.9254\n",
      "Epoch 77/100\n",
      "22444/22444 [==============================] - 6s 265us/sample - loss: 0.1738 - accuracy: 0.9253\n",
      "Epoch 78/100\n",
      "22444/22444 [==============================] - 7s 293us/sample - loss: 0.1724 - accuracy: 0.9272\n",
      "Epoch 79/100\n",
      "22444/22444 [==============================] - 6s 287us/sample - loss: 0.1713 - accuracy: 0.9283\n",
      "Epoch 80/100\n",
      "22444/22444 [==============================] - 7s 312us/sample - loss: 0.1745 - accuracy: 0.9254\n",
      "Epoch 81/100\n",
      "22444/22444 [==============================] - 7s 311us/sample - loss: 0.1756 - accuracy: 0.9259\n",
      "Epoch 82/100\n",
      "22444/22444 [==============================] - 7s 308us/sample - loss: 0.1728 - accuracy: 0.9268\n",
      "Epoch 83/100\n",
      "22444/22444 [==============================] - 6s 283us/sample - loss: 0.1731 - accuracy: 0.9276\n",
      "Epoch 84/100\n",
      "22444/22444 [==============================] - 7s 308us/sample - loss: 0.1748 - accuracy: 0.9251\n",
      "Epoch 85/100\n",
      "22444/22444 [==============================] - 8s 339us/sample - loss: 0.1746 - accuracy: 0.9247\n",
      "Epoch 86/100\n",
      "22444/22444 [==============================] - 8s 350us/sample - loss: 0.1728 - accuracy: 0.9266\n",
      "Epoch 87/100\n",
      "22444/22444 [==============================] - 7s 319us/sample - loss: 0.1703 - accuracy: 0.9297\n",
      "Epoch 88/100\n",
      "22444/22444 [==============================] - 7s 297us/sample - loss: 0.1756 - accuracy: 0.9247\n",
      "Epoch 89/100\n",
      "22444/22444 [==============================] - 6s 289us/sample - loss: 0.1719 - accuracy: 0.9253\n",
      "Epoch 90/100\n",
      "22444/22444 [==============================] - 6s 288us/sample - loss: 0.1713 - accuracy: 0.9262\n",
      "Epoch 91/100\n",
      "22444/22444 [==============================] - 6s 276us/sample - loss: 0.1735 - accuracy: 0.9270\n",
      "Epoch 92/100\n",
      "22444/22444 [==============================] - 6s 279us/sample - loss: 0.1733 - accuracy: 0.9265\n",
      "Epoch 93/100\n",
      "22444/22444 [==============================] - 7s 308us/sample - loss: 0.1711 - accuracy: 0.9296\n",
      "Epoch 94/100\n",
      "22444/22444 [==============================] - 7s 316us/sample - loss: 0.1742 - accuracy: 0.9245\n",
      "Epoch 95/100\n",
      "22444/22444 [==============================] - 6s 279us/sample - loss: 0.1724 - accuracy: 0.9255\n",
      "Epoch 96/100\n",
      "22444/22444 [==============================] - 7s 310us/sample - loss: 0.1734 - accuracy: 0.9272\n",
      "Epoch 97/100\n",
      "22444/22444 [==============================] - 7s 308us/sample - loss: 0.1746 - accuracy: 0.9251\n",
      "Epoch 98/100\n",
      "22444/22444 [==============================] - 7s 295us/sample - loss: 0.1660 - accuracy: 0.9295\n",
      "Epoch 99/100\n",
      "22444/22444 [==============================] - 6s 289us/sample - loss: 0.1731 - accuracy: 0.9270\n",
      "Epoch 100/100\n",
      "22444/22444 [==============================] - 6s 286us/sample - loss: 0.1731 - accuracy: 0.9270\n"
     ]
    },
    {
     "data": {
      "text/plain": [
       "<tensorflow.python.keras.callbacks.History at 0x1916fa72d88>"
      ]
     },
     "execution_count": 83,
     "metadata": {},
     "output_type": "execute_result"
    }
   ],
   "source": [
    "lr_model.fit(X_train.values, y_train.values, epochs=100, batch_size=10)"
   ]
  },
  {
   "cell_type": "markdown",
   "metadata": {},
   "source": [
    "Leaky relu seems to start at a higher level of accuracy, but gains less over time"
   ]
  },
  {
   "cell_type": "code",
   "execution_count": 89,
   "metadata": {},
   "outputs": [],
   "source": [
    "y_pred_prob_lr = lr_model.predict(X_test.values)\n",
    "y_pred_class_lr = [int(x >= 0.5) for x in y_pred_prob_lr]"
   ]
  },
  {
   "cell_type": "code",
   "execution_count": 90,
   "metadata": {},
   "outputs": [
    {
     "name": "stdout",
     "output_type": "stream",
     "text": [
      "No Skill: ROC AUC=0.500\n",
      "Model   : ROC AUC=0.974\n"
     ]
    },
    {
     "data": {
      "image/png": "[encoded data removed]",
      "text/plain": [
       "<Figure size 432x288 with 2 Axes>"
      ]
     },
     "metadata": {
      "needs_background": "light"
     },
     "output_type": "display_data"
    },
    {
     "data": {
      "image/png": "[encoded data removed]",
      "text/plain": [
       "<Figure size 432x288 with 1 Axes>"
      ]
     },
     "metadata": {
      "needs_background": "light"
     },
     "output_type": "display_data"
    }
   ],
   "source": [
    "analyze_accuracy(y_test, y_pred_prob_lr, y_pred_class_lr)"
   ]
  },
  {
   "cell_type": "code",
   "execution_count": 91,
   "metadata": {},
   "outputs": [
    {
     "data": {
      "image/png": "[encoded data removed]",
      "text/plain": [
       "<Figure size 432x288 with 1 Axes>"
      ]
     },
     "metadata": {
      "needs_background": "light"
     },
     "output_type": "display_data"
    }
   ],
   "source": [
    "plot_calibration(y_test, y_pred_prob_lr)"
   ]
  },
  {
   "cell_type": "code",
   "execution_count": null,
   "metadata": {},
   "outputs": [],
   "source": [
    "Overall, performs worse than regular relu. But, again, this is without any paramater tuning"
   ]
  },
  {
   "cell_type": "code",
   "execution_count": null,
   "metadata": {},
   "outputs": [],
   "source": []
  }
 ],
 "metadata": {
  "kernelspec": {
   "display_name": "Python 3",
   "language": "python",
   "name": "python3"
  },
  "language_info": {
   "codemirror_mode": {
    "name": "ipython",
    "version": 3
   },
   "file_extension": ".py",
   "mimetype": "text/x-python",
   "name": "python",
   "nbconvert_exporter": "python",
   "pygments_lexer": "ipython3",
   "version": "3.7.6"
  }
 },
 "nbformat": 4,
 "nbformat_minor": 4
}
