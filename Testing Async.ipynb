{
 "cells": [
  {
   "cell_type": "raw",
   "metadata": {},
   "source": [
    "The MCTS algorith can theoretically be run in parallel. Here, I am creating a test case for the Python asyncio API before running adding the functionality to the MCTS implementation."
   ]
  },
  {
   "cell_type": "code",
   "execution_count": 1,
   "metadata": {},
   "outputs": [
    {
     "name": "stdout",
     "output_type": "stream",
     "text": [
      "Requirement already satisfied: asyncio in c:\\users\\18053\\anaconda3\\lib\\site-packages (3.4.3)\n"
     ]
    },
    {
     "name": "stderr",
     "output_type": "stream",
     "text": [
      "WARNING: Ignoring invalid distribution -umpy (c:\\users\\18053\\anaconda3\\lib\\site-packages)\n",
      "WARNING: Ignoring invalid distribution -umpy (c:\\users\\18053\\anaconda3\\lib\\site-packages)\n",
      "WARNING: Ignoring invalid distribution -umpy (c:\\users\\18053\\anaconda3\\lib\\site-packages)\n",
      "WARNING: Ignoring invalid distribution -umpy (c:\\users\\18053\\anaconda3\\lib\\site-packages)\n",
      "WARNING: Ignoring invalid distribution -umpy (c:\\users\\18053\\anaconda3\\lib\\site-packages)\n",
      "WARNING: Ignoring invalid distribution -umpy (c:\\users\\18053\\anaconda3\\lib\\site-packages)\n",
      "WARNING: You are using pip version 21.1.2; however, version 21.1.3 is available.\n",
      "You should consider upgrading via the 'c:\\users\\18053\\anaconda3\\python.exe -m pip install --upgrade pip' command.\n"
     ]
    }
   ],
   "source": [
    "!pip install asyncio"
   ]
  },
  {
   "cell_type": "code",
   "execution_count": 2,
   "metadata": {},
   "outputs": [],
   "source": [
    "import asyncio\n",
    "from collections import Counter\n",
    "import copy\n",
    "import seaborn as sns\n",
    "import matplotlib.pyplot as plt\n",
    "import numpy as np\n",
    "import pandas as pd\n",
    "import statsmodels.formula.api as smf\n",
    "import time"
   ]
  },
  {
   "cell_type": "raw",
   "metadata": {},
   "source": [
    "Much of the test code is inspired from Tech with Tim\n",
    "https://www.youtube.com/watch?v=t5Bo1Je9EmE"
   ]
  },
  {
   "cell_type": "code",
   "execution_count": 3,
   "metadata": {},
   "outputs": [
    {
     "name": "stdout",
     "output_type": "stream",
     "text": [
      "start fetching\n",
      "0\n",
      "1\n",
      "done fetching\n",
      "{'data': 1}\n",
      "2\n",
      "3\n",
      "4\n",
      "5\n",
      "6\n",
      "7\n",
      "8\n",
      "9\n",
      "task 2 is finished\n"
     ]
    }
   ],
   "source": [
    "# Test Code\n",
    "async def fetch_data():\n",
    "    print('start fetching')\n",
    "    await asyncio.sleep(2)\n",
    "    print('done fetching')\n",
    "    return {'data': 1}\n",
    "\n",
    "async def print_numbers():\n",
    "    for i in range(10):\n",
    "        print(i)\n",
    "        await asyncio.sleep(1.5)\n",
    "        \n",
    "async def print_hello():\n",
    "    for i in range(10):\n",
    "        print(\"hello\")\n",
    "        await asyncio.sleep(1)\n",
    "\n",
    "async def main():\n",
    "    task1 = asyncio.create_task(fetch_data())\n",
    "    task2 = asyncio.create_task(print_numbers())\n",
    "    #task3 = asyncio.create_task(print_hello())\n",
    "    \n",
    "    value = await task1\n",
    "    print(value)\n",
    "    await task2\n",
    "    print(\"task 2 is finished\")\n",
    "\n",
    "await main()"
   ]
  },
  {
   "cell_type": "code",
   "execution_count": 4,
   "metadata": {},
   "outputs": [],
   "source": [
    "#Timing test\n",
    "def loop_one_regular():\n",
    "    for i in range(10):\n",
    "        time.sleep(1)\n",
    "\n",
    "def loop_two_regular():\n",
    "    for i in range(10):\n",
    "        time.sleep(1)\n",
    "\n",
    "async def loop_one_asy():\n",
    "    for i in range(10):\n",
    "        await asyncio.sleep(1)\n",
    "\n",
    "async def loop_two_asy():\n",
    "    for i in range(10):\n",
    "        await asyncio.sleep(1)"
   ]
  },
  {
   "cell_type": "code",
   "execution_count": 5,
   "metadata": {},
   "outputs": [],
   "source": [
    "async def main():\n",
    "    start = time.time()\n",
    "    task1 = asyncio.create_task(loop_one_asy())\n",
    "    task2 = asyncio.create_task(loop_two_asy()) \n",
    "    \n",
    "    await task1\n",
    "    await task2\n",
    "    end = time.time()\n",
    "    print(\"async time:  \" , end - start)"
   ]
  },
  {
   "cell_type": "code",
   "execution_count": 6,
   "metadata": {},
   "outputs": [],
   "source": [
    "def regular_func():\n",
    "    start = time.time()\n",
    "    loop_one_regular()\n",
    "    loop_two_regular()\n",
    "    end = time.time()\n",
    "    print(\"regular time:\", end - start)"
   ]
  },
  {
   "cell_type": "code",
   "execution_count": 7,
   "metadata": {},
   "outputs": [
    {
     "name": "stdout",
     "output_type": "stream",
     "text": [
      "async time:   10.100624084472656\n",
      "regular time: 20.1862735748291\n"
     ]
    }
   ],
   "source": [
    "await main()\n",
    "regular_func()"
   ]
  },
  {
   "cell_type": "code",
   "execution_count": 11,
   "metadata": {},
   "outputs": [],
   "source": [
    "#Timing test\n",
    "def loop_one_regular():\n",
    "    for j in range(1000):\n",
    "        for i in range(1000):\n",
    "            pass\n",
    "\n",
    "def loop_two_regular():\n",
    "    for j in range(1000):\n",
    "        for i in range(1000):\n",
    "            pass\n",
    "\n",
    "async def loop_one_asy():\n",
    "    for j in range(1000):\n",
    "        for i in range(1000):\n",
    "            await asyncio.sleep(1)\n",
    "\n",
    "async def loop_two_asy():\n",
    "    for j in range(1000):\n",
    "        for i in range(1000):\n",
    "            await asyncio.sleep(1)"
   ]
  },
  {
   "cell_type": "code",
   "execution_count": 12,
   "metadata": {},
   "outputs": [
    {
     "ename": "CancelledError",
     "evalue": "",
     "output_type": "error",
     "traceback": [
      "\u001b[1;31m---------------------------------------------------------------------------\u001b[0m",
      "\u001b[1;31mCancelledError\u001b[0m                            Traceback (most recent call last)",
      "\u001b[1;32m<ipython-input-12-cbae35a1b36a>\u001b[0m in \u001b[0;36masync-def-wrapper\u001b[1;34m()\u001b[0m\n\u001b[0;32m      2\u001b[0m \u001b[0mregular_func\u001b[0m\u001b[1;33m(\u001b[0m\u001b[1;33m)\u001b[0m\u001b[1;33m\u001b[0m\u001b[1;33m\u001b[0m\u001b[0m\n",
      "\u001b[1;32m<ipython-input-5-f70efd4e9e0a>\u001b[0m in \u001b[0;36mmain\u001b[1;34m()\u001b[0m\n\u001b[0;32m      4\u001b[0m     \u001b[0mtask2\u001b[0m \u001b[1;33m=\u001b[0m \u001b[0masyncio\u001b[0m\u001b[1;33m.\u001b[0m\u001b[0mcreate_task\u001b[0m\u001b[1;33m(\u001b[0m\u001b[0mloop_two_asy\u001b[0m\u001b[1;33m(\u001b[0m\u001b[1;33m)\u001b[0m\u001b[1;33m)\u001b[0m\u001b[1;33m\u001b[0m\u001b[1;33m\u001b[0m\u001b[0m\n\u001b[0;32m      5\u001b[0m \u001b[1;33m\u001b[0m\u001b[0m\n\u001b[1;32m----> 6\u001b[1;33m     \u001b[1;32mawait\u001b[0m \u001b[0mtask1\u001b[0m\u001b[1;33m\u001b[0m\u001b[1;33m\u001b[0m\u001b[0m\n\u001b[0m\u001b[0;32m      7\u001b[0m     \u001b[1;32mawait\u001b[0m \u001b[0mtask2\u001b[0m\u001b[1;33m\u001b[0m\u001b[1;33m\u001b[0m\u001b[0m\n\u001b[0;32m      8\u001b[0m     \u001b[0mend\u001b[0m \u001b[1;33m=\u001b[0m \u001b[0mtime\u001b[0m\u001b[1;33m.\u001b[0m\u001b[0mtime\u001b[0m\u001b[1;33m(\u001b[0m\u001b[1;33m)\u001b[0m\u001b[1;33m\u001b[0m\u001b[1;33m\u001b[0m\u001b[0m\n",
      "\u001b[1;31mCancelledError\u001b[0m: "
     ]
    }
   ],
   "source": [
    "await main()\n",
    "regular_func()"
   ]
  },
  {
   "cell_type": "code",
   "execution_count": null,
   "metadata": {},
   "outputs": [],
   "source": []
  }
 ],
 "metadata": {
  "kernelspec": {
   "display_name": "Python 3",
   "language": "python",
   "name": "python3"
  },
  "language_info": {
   "codemirror_mode": {
    "name": "ipython",
    "version": 3
   },
   "file_extension": ".py",
   "mimetype": "text/x-python",
   "name": "python",
   "nbconvert_exporter": "python",
   "pygments_lexer": "ipython3",
   "version": "3.7.6"
  }
 },
 "nbformat": 4,
 "nbformat_minor": 4
}
