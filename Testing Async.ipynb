{
 "cells": [
  {
   "cell_type": "raw",
   "metadata": {},
   "source": [
    "The MCTS algorith can theoretically be run in parallel. Here, I am creating a test case for the Python asyncio API before running adding the functionality to the MCTS implementation."
   ]
  },
  {
   "cell_type": "code",
   "execution_count": 3,
   "metadata": {},
   "outputs": [
    {
     "name": "stdout",
     "output_type": "stream",
     "text": [
      "Collecting asyncio\n",
      "  Downloading asyncio-3.4.3-py3-none-any.whl (101 kB)\n",
      "Installing collected packages: asyncio\n",
      "Successfully installed asyncio-3.4.3\n"
     ]
    },
    {
     "name": "stderr",
     "output_type": "stream",
     "text": [
      "WARNING: Ignoring invalid distribution -umpy (c:\\users\\18053\\anaconda3\\lib\\site-packages)\n",
      "WARNING: Ignoring invalid distribution -umpy (c:\\users\\18053\\anaconda3\\lib\\site-packages)\n",
      "WARNING: Ignoring invalid distribution -umpy (c:\\users\\18053\\anaconda3\\lib\\site-packages)\n",
      "WARNING: Ignoring invalid distribution -umpy (c:\\users\\18053\\anaconda3\\lib\\site-packages)\n",
      "WARNING: Ignoring invalid distribution -umpy (c:\\users\\18053\\anaconda3\\lib\\site-packages)\n",
      "WARNING: Ignoring invalid distribution -umpy (c:\\users\\18053\\anaconda3\\lib\\site-packages)\n",
      "WARNING: Ignoring invalid distribution -umpy (c:\\users\\18053\\anaconda3\\lib\\site-packages)\n",
      "WARNING: You are using pip version 21.1.2; however, version 21.1.3 is available.\n",
      "You should consider upgrading via the 'c:\\users\\18053\\anaconda3\\python.exe -m pip install --upgrade pip' command.\n"
     ]
    }
   ],
   "source": [
    "!pip install asyncio"
   ]
  },
  {
   "cell_type": "code",
   "execution_count": 5,
   "metadata": {},
   "outputs": [],
   "source": [
    "import asyncio\n",
    "from collections import Counter\n",
    "import copy\n",
    "import seaborn as sns\n",
    "import matplotlib.pyplot as plt\n",
    "import numpy as np\n",
    "import pandas as pd\n",
    "import statsmodels.formula.api as smf"
   ]
  },
  {
   "cell_type": "code",
   "execution_count": 21,
   "metadata": {},
   "outputs": [
    {
     "name": "stdout",
     "output_type": "stream",
     "text": [
      "start fetching\n",
      "0\n",
      "1\n",
      "done fetching\n",
      "{'data': 1}\n",
      "2\n",
      "3\n",
      "4\n",
      "5\n",
      "6\n",
      "7\n",
      "8\n",
      "9\n",
      "task 2 is finished\n"
     ]
    }
   ],
   "source": [
    "# Much of the test code is inspired from Tech with Tim\n",
    "# https://www.youtube.com/watch?v=t5Bo1Je9EmE\n",
    "\n",
    "async def fetch_data():\n",
    "    print('start fetching')\n",
    "    await asyncio.sleep(2)\n",
    "    print('done fetching')\n",
    "    return {'data': 1}\n",
    "\n",
    "async def print_numbers():\n",
    "    for i in range(10):\n",
    "        print(i)\n",
    "        await asyncio.sleep(1.5)\n",
    "        \n",
    "async def print_hello():\n",
    "    for i in range(10):\n",
    "        print(\"hello\")\n",
    "        await asyncio.sleep(1)\n",
    "\n",
    "async def main():\n",
    "    task1 = asyncio.create_task(fetch_data())\n",
    "    task2 = asyncio.create_task(print_numbers())\n",
    "    #task3 = asyncio.create_task(print_hello())\n",
    "    \n",
    "    value = await task1\n",
    "    print(value)\n",
    "    await task2\n",
    "    print(\"task 2 is finished\")\n",
    "\n",
    "await main()"
   ]
  },
  {
   "cell_type": "code",
   "execution_count": null,
   "metadata": {},
   "outputs": [],
   "source": []
  }
 ],
 "metadata": {
  "kernelspec": {
   "display_name": "Python 3",
   "language": "python",
   "name": "python3"
  },
  "language_info": {
   "codemirror_mode": {
    "name": "ipython",
    "version": 3
   },
   "file_extension": ".py",
   "mimetype": "text/x-python",
   "name": "python",
   "nbconvert_exporter": "python",
   "pygments_lexer": "ipython3",
   "version": "3.7.6"
  }
 },
 "nbformat": 4,
 "nbformat_minor": 4
}
