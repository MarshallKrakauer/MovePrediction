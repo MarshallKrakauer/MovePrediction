{
 "cells": [
  {
   "cell_type": "markdown",
   "metadata": {},
   "source": [
    "# Setup "
   ]
  },
  {
   "cell_type": "code",
   "execution_count": 63,
   "metadata": {},
   "outputs": [],
   "source": [
    "import pandas as pd\n",
    "import numpy as np\n",
    "import matplotlib.pyplot as plt\n",
    "import seaborn as sns\n",
    "import copy\n",
    "import statsmodels.formula.api as smf\n",
    "from collections import Counter\n",
    "from sklearn.svm import SVC\n",
    "from sklearn.metrics import confusion_matrix, roc_curve, roc_auc_score"
   ]
  },
  {
   "cell_type": "code",
   "execution_count": 45,
   "metadata": {},
   "outputs": [],
   "source": [
    "df = pd.read_csv(\"chess_king_rook_dataset.csv\")"
   ]
  },
  {
   "cell_type": "markdown",
   "metadata": {},
   "source": [
    "## Understanding Data"
   ]
  },
  {
   "cell_type": "code",
   "execution_count": 46,
   "metadata": {},
   "outputs": [
    {
     "data": {
      "text/plain": [
       "white_king_file    object\n",
       "white_king_rank     int64\n",
       "white_rook_file    object\n",
       "white_rook_rank     int64\n",
       "black_king_file    object\n",
       "black_king_rank     int64\n",
       "result             object\n",
       "dtype: object"
      ]
     },
     "execution_count": 46,
     "metadata": {},
     "output_type": "execute_result"
    }
   ],
   "source": [
    "df.dtypes"
   ]
  },
  {
   "cell_type": "code",
   "execution_count": 47,
   "metadata": {},
   "outputs": [
    {
     "data": {
      "text/plain": [
       "(array([1, 2, 3, 4], dtype=int64),\n",
       " array([3, 1, 2, 4, 5, 6, 7, 8], dtype=int64))"
      ]
     },
     "execution_count": 47,
     "metadata": {},
     "output_type": "execute_result"
    }
   ],
   "source": [
    "df['white_king_rank'].unique(), df['white_rook_rank'].unique()"
   ]
  },
  {
   "cell_type": "markdown",
   "metadata": {},
   "source": [
    "Should we keep the rank variable numeric? Seems more categorical (ie 1, 2, etc are row names, not a true continuous variable like height or weight)"
   ]
  },
  {
   "cell_type": "code",
   "execution_count": 48,
   "metadata": {},
   "outputs": [
    {
     "data": {
      "text/plain": [
       "array(['draw', 'zero', 'one', 'two', 'three', 'four', 'five', 'six',\n",
       "       'seven', 'eight', 'nine', 'ten', 'eleven', 'twelve', 'thirteen',\n",
       "       'fourteen', 'fifteen', 'sixteen'], dtype=object)"
      ]
     },
     "execution_count": 48,
     "metadata": {},
     "output_type": "execute_result"
    }
   ],
   "source": [
    "df['result'].unique()"
   ]
  },
  {
   "cell_type": "markdown",
   "metadata": {},
   "source": [
    "draw is a draw, numbers are # of turns to a win"
   ]
  },
  {
   "cell_type": "code",
   "execution_count": 49,
   "metadata": {},
   "outputs": [
    {
     "data": {
      "text/plain": [
       "<matplotlib.axes._subplots.AxesSubplot at 0x1aaadaff5c8>"
      ]
     },
     "execution_count": 49,
     "metadata": {},
     "output_type": "execute_result"
    },
    {
     "data": {
      "image/png": "[encoded data removed]",
      "text/plain": [
       "<Figure size 1440x640 with 1 Axes>"
      ]
     },
     "metadata": {
      "needs_background": "light"
     },
     "output_type": "display_data"
    }
   ],
   "source": [
    "plt.figure(figsize=(18, 8), dpi=80)\n",
    "sns.countplot(data=df, x='result')"
   ]
  },
  {
   "cell_type": "code",
   "execution_count": 50,
   "metadata": {},
   "outputs": [],
   "source": [
    "# binary result fits with Santorini (draws aren't possible in that game)\n",
    "df['win'] = df['result'] != 'draw'\n",
    "df['win'] = df['win'].astype(int)"
   ]
  },
  {
   "cell_type": "code",
   "execution_count": 51,
   "metadata": {},
   "outputs": [
    {
     "data": {
      "text/plain": [
       "0.9003421727972626"
      ]
     },
     "execution_count": 51,
     "metadata": {},
     "output_type": "execute_result"
    }
   ],
   "source": [
    "df.win.mean() #90%ish are wins"
   ]
  },
  {
   "cell_type": "code",
   "execution_count": 53,
   "metadata": {},
   "outputs": [
    {
     "data": {
      "text/html": [
       "<div>\n",
       "<style scoped>\n",
       "    .dataframe tbody tr th:only-of-type {\n",
       "        vertical-align: middle;\n",
       "    }\n",
       "\n",
       "    .dataframe tbody tr th {\n",
       "        vertical-align: top;\n",
       "    }\n",
       "\n",
       "    .dataframe thead th {\n",
       "        text-align: right;\n",
       "    }\n",
       "</style>\n",
       "<table border=\"1\" class=\"dataframe\">\n",
       "  <thead>\n",
       "    <tr style=\"text-align: right;\">\n",
       "      <th></th>\n",
       "      <th>white_king_rank</th>\n",
       "      <th>white_rook_rank</th>\n",
       "      <th>white_rook_rank</th>\n",
       "      <th>black_king_rank</th>\n",
       "    </tr>\n",
       "  </thead>\n",
       "  <tbody>\n",
       "    <tr>\n",
       "      <th>white_king_rank</th>\n",
       "      <td>1.000000</td>\n",
       "      <td>-0.013167</td>\n",
       "      <td>-0.013167</td>\n",
       "      <td>-0.123987</td>\n",
       "    </tr>\n",
       "    <tr>\n",
       "      <th>white_rook_rank</th>\n",
       "      <td>-0.013167</td>\n",
       "      <td>1.000000</td>\n",
       "      <td>1.000000</td>\n",
       "      <td>-0.021274</td>\n",
       "    </tr>\n",
       "    <tr>\n",
       "      <th>white_rook_rank</th>\n",
       "      <td>-0.013167</td>\n",
       "      <td>1.000000</td>\n",
       "      <td>1.000000</td>\n",
       "      <td>-0.021274</td>\n",
       "    </tr>\n",
       "    <tr>\n",
       "      <th>black_king_rank</th>\n",
       "      <td>-0.123987</td>\n",
       "      <td>-0.021274</td>\n",
       "      <td>-0.021274</td>\n",
       "      <td>1.000000</td>\n",
       "    </tr>\n",
       "  </tbody>\n",
       "</table>\n",
       "</div>"
      ],
      "text/plain": [
       "                 white_king_rank  white_rook_rank  white_rook_rank  \\\n",
       "white_king_rank         1.000000        -0.013167        -0.013167   \n",
       "white_rook_rank        -0.013167         1.000000         1.000000   \n",
       "white_rook_rank        -0.013167         1.000000         1.000000   \n",
       "black_king_rank        -0.123987        -0.021274        -0.021274   \n",
       "\n",
       "                 black_king_rank  \n",
       "white_king_rank        -0.123987  \n",
       "white_rook_rank        -0.021274  \n",
       "white_rook_rank        -0.021274  \n",
       "black_king_rank         1.000000  "
      ]
     },
     "execution_count": 53,
     "metadata": {},
     "output_type": "execute_result"
    }
   ],
   "source": [
    "df[['white_king_rank','white_rook_rank', 'white_rook_rank', 'black_king_rank']].corr()"
   ]
  },
  {
   "cell_type": "code",
   "execution_count": 54,
   "metadata": {},
   "outputs": [
    {
     "data": {
      "text/plain": [
       "white_king_file    object\n",
       "white_king_rank    object\n",
       "white_rook_file    object\n",
       "white_rook_rank    object\n",
       "black_king_file    object\n",
       "black_king_rank    object\n",
       "result             object\n",
       "win                 int32\n",
       "dtype: object"
      ]
     },
     "execution_count": 54,
     "metadata": {},
     "output_type": "execute_result"
    }
   ],
   "source": [
    "for col in df.columns:\n",
    "    if \"rank\" in col:\n",
    "        df[col] = df[col].astype(str)\n",
    "\n",
    "df.dtypes"
   ]
  },
  {
   "cell_type": "code",
   "execution_count": 57,
   "metadata": {},
   "outputs": [],
   "source": [
    "dummy_df = copy.deepcopy(df)\n",
    "del dummy_df['result']"
   ]
  },
  {
   "cell_type": "code",
   "execution_count": 59,
   "metadata": {},
   "outputs": [],
   "source": [
    "dummy_df = pd.get_dummies(dummy_df)\n",
    "dummy_df['result'] = df['result']"
   ]
  },
  {
   "cell_type": "code",
   "execution_count": 68,
   "metadata": {},
   "outputs": [
    {
     "data": {
      "text/html": [
       "<div>\n",
       "<style scoped>\n",
       "    .dataframe tbody tr th:only-of-type {\n",
       "        vertical-align: middle;\n",
       "    }\n",
       "\n",
       "    .dataframe tbody tr th {\n",
       "        vertical-align: top;\n",
       "    }\n",
       "\n",
       "    .dataframe thead th {\n",
       "        text-align: right;\n",
       "    }\n",
       "</style>\n",
       "<table border=\"1\" class=\"dataframe\">\n",
       "  <thead>\n",
       "    <tr style=\"text-align: right;\">\n",
       "      <th></th>\n",
       "      <th>win</th>\n",
       "      <th>white_king_file_a</th>\n",
       "      <th>white_king_file_b</th>\n",
       "      <th>white_king_file_c</th>\n",
       "      <th>white_king_file_d</th>\n",
       "      <th>white_king_rank_1</th>\n",
       "      <th>white_king_rank_2</th>\n",
       "      <th>white_king_rank_3</th>\n",
       "      <th>white_king_rank_4</th>\n",
       "      <th>white_rook_file_a</th>\n",
       "      <th>...</th>\n",
       "      <th>black_king_file_h</th>\n",
       "      <th>black_king_rank_1</th>\n",
       "      <th>black_king_rank_2</th>\n",
       "      <th>black_king_rank_3</th>\n",
       "      <th>black_king_rank_4</th>\n",
       "      <th>black_king_rank_5</th>\n",
       "      <th>black_king_rank_6</th>\n",
       "      <th>black_king_rank_7</th>\n",
       "      <th>black_king_rank_8</th>\n",
       "      <th>result</th>\n",
       "    </tr>\n",
       "  </thead>\n",
       "  <tbody>\n",
       "    <tr>\n",
       "      <th>0</th>\n",
       "      <td>0</td>\n",
       "      <td>1</td>\n",
       "      <td>0</td>\n",
       "      <td>0</td>\n",
       "      <td>0</td>\n",
       "      <td>1</td>\n",
       "      <td>0</td>\n",
       "      <td>0</td>\n",
       "      <td>0</td>\n",
       "      <td>0</td>\n",
       "      <td>...</td>\n",
       "      <td>0</td>\n",
       "      <td>0</td>\n",
       "      <td>1</td>\n",
       "      <td>0</td>\n",
       "      <td>0</td>\n",
       "      <td>0</td>\n",
       "      <td>0</td>\n",
       "      <td>0</td>\n",
       "      <td>0</td>\n",
       "      <td>draw</td>\n",
       "    </tr>\n",
       "    <tr>\n",
       "      <th>1</th>\n",
       "      <td>0</td>\n",
       "      <td>1</td>\n",
       "      <td>0</td>\n",
       "      <td>0</td>\n",
       "      <td>0</td>\n",
       "      <td>1</td>\n",
       "      <td>0</td>\n",
       "      <td>0</td>\n",
       "      <td>0</td>\n",
       "      <td>0</td>\n",
       "      <td>...</td>\n",
       "      <td>0</td>\n",
       "      <td>0</td>\n",
       "      <td>1</td>\n",
       "      <td>0</td>\n",
       "      <td>0</td>\n",
       "      <td>0</td>\n",
       "      <td>0</td>\n",
       "      <td>0</td>\n",
       "      <td>0</td>\n",
       "      <td>draw</td>\n",
       "    </tr>\n",
       "    <tr>\n",
       "      <th>2</th>\n",
       "      <td>0</td>\n",
       "      <td>1</td>\n",
       "      <td>0</td>\n",
       "      <td>0</td>\n",
       "      <td>0</td>\n",
       "      <td>1</td>\n",
       "      <td>0</td>\n",
       "      <td>0</td>\n",
       "      <td>0</td>\n",
       "      <td>0</td>\n",
       "      <td>...</td>\n",
       "      <td>0</td>\n",
       "      <td>1</td>\n",
       "      <td>0</td>\n",
       "      <td>0</td>\n",
       "      <td>0</td>\n",
       "      <td>0</td>\n",
       "      <td>0</td>\n",
       "      <td>0</td>\n",
       "      <td>0</td>\n",
       "      <td>draw</td>\n",
       "    </tr>\n",
       "    <tr>\n",
       "      <th>3</th>\n",
       "      <td>0</td>\n",
       "      <td>1</td>\n",
       "      <td>0</td>\n",
       "      <td>0</td>\n",
       "      <td>0</td>\n",
       "      <td>1</td>\n",
       "      <td>0</td>\n",
       "      <td>0</td>\n",
       "      <td>0</td>\n",
       "      <td>0</td>\n",
       "      <td>...</td>\n",
       "      <td>0</td>\n",
       "      <td>0</td>\n",
       "      <td>1</td>\n",
       "      <td>0</td>\n",
       "      <td>0</td>\n",
       "      <td>0</td>\n",
       "      <td>0</td>\n",
       "      <td>0</td>\n",
       "      <td>0</td>\n",
       "      <td>draw</td>\n",
       "    </tr>\n",
       "    <tr>\n",
       "      <th>4</th>\n",
       "      <td>0</td>\n",
       "      <td>1</td>\n",
       "      <td>0</td>\n",
       "      <td>0</td>\n",
       "      <td>0</td>\n",
       "      <td>1</td>\n",
       "      <td>0</td>\n",
       "      <td>0</td>\n",
       "      <td>0</td>\n",
       "      <td>0</td>\n",
       "      <td>...</td>\n",
       "      <td>0</td>\n",
       "      <td>1</td>\n",
       "      <td>0</td>\n",
       "      <td>0</td>\n",
       "      <td>0</td>\n",
       "      <td>0</td>\n",
       "      <td>0</td>\n",
       "      <td>0</td>\n",
       "      <td>0</td>\n",
       "      <td>draw</td>\n",
       "    </tr>\n",
       "  </tbody>\n",
       "</table>\n",
       "<p>5 rows × 42 columns</p>\n",
       "</div>"
      ],
      "text/plain": [
       "   win  white_king_file_a  white_king_file_b  white_king_file_c  \\\n",
       "0    0                  1                  0                  0   \n",
       "1    0                  1                  0                  0   \n",
       "2    0                  1                  0                  0   \n",
       "3    0                  1                  0                  0   \n",
       "4    0                  1                  0                  0   \n",
       "\n",
       "   white_king_file_d  white_king_rank_1  white_king_rank_2  white_king_rank_3  \\\n",
       "0                  0                  1                  0                  0   \n",
       "1                  0                  1                  0                  0   \n",
       "2                  0                  1                  0                  0   \n",
       "3                  0                  1                  0                  0   \n",
       "4                  0                  1                  0                  0   \n",
       "\n",
       "   white_king_rank_4  white_rook_file_a  ...  black_king_file_h  \\\n",
       "0                  0                  0  ...                  0   \n",
       "1                  0                  0  ...                  0   \n",
       "2                  0                  0  ...                  0   \n",
       "3                  0                  0  ...                  0   \n",
       "4                  0                  0  ...                  0   \n",
       "\n",
       "   black_king_rank_1  black_king_rank_2  black_king_rank_3  black_king_rank_4  \\\n",
       "0                  0                  1                  0                  0   \n",
       "1                  0                  1                  0                  0   \n",
       "2                  1                  0                  0                  0   \n",
       "3                  0                  1                  0                  0   \n",
       "4                  1                  0                  0                  0   \n",
       "\n",
       "   black_king_rank_5  black_king_rank_6  black_king_rank_7  black_king_rank_8  \\\n",
       "0                  0                  0                  0                  0   \n",
       "1                  0                  0                  0                  0   \n",
       "2                  0                  0                  0                  0   \n",
       "3                  0                  0                  0                  0   \n",
       "4                  0                  0                  0                  0   \n",
       "\n",
       "   result  \n",
       "0    draw  \n",
       "1    draw  \n",
       "2    draw  \n",
       "3    draw  \n",
       "4    draw  \n",
       "\n",
       "[5 rows x 42 columns]"
      ]
     },
     "execution_count": 68,
     "metadata": {},
     "output_type": "execute_result"
    }
   ],
   "source": [
    "dummy_df.head()"
   ]
  },
  {
   "cell_type": "code",
   "execution_count": 69,
   "metadata": {},
   "outputs": [
    {
     "data": {
      "text/html": [
       "<div>\n",
       "<style scoped>\n",
       "    .dataframe tbody tr th:only-of-type {\n",
       "        vertical-align: middle;\n",
       "    }\n",
       "\n",
       "    .dataframe tbody tr th {\n",
       "        vertical-align: top;\n",
       "    }\n",
       "\n",
       "    .dataframe thead th {\n",
       "        text-align: right;\n",
       "    }\n",
       "</style>\n",
       "<table border=\"1\" class=\"dataframe\">\n",
       "  <thead>\n",
       "    <tr style=\"text-align: right;\">\n",
       "      <th></th>\n",
       "      <th>white_king_file</th>\n",
       "      <th>white_king_rank</th>\n",
       "      <th>white_rook_file</th>\n",
       "      <th>white_rook_rank</th>\n",
       "      <th>black_king_file</th>\n",
       "      <th>black_king_rank</th>\n",
       "      <th>result</th>\n",
       "      <th>win</th>\n",
       "    </tr>\n",
       "  </thead>\n",
       "  <tbody>\n",
       "    <tr>\n",
       "      <th>0</th>\n",
       "      <td>a</td>\n",
       "      <td>1</td>\n",
       "      <td>b</td>\n",
       "      <td>3</td>\n",
       "      <td>c</td>\n",
       "      <td>2</td>\n",
       "      <td>draw</td>\n",
       "      <td>0</td>\n",
       "    </tr>\n",
       "    <tr>\n",
       "      <th>1</th>\n",
       "      <td>a</td>\n",
       "      <td>1</td>\n",
       "      <td>c</td>\n",
       "      <td>1</td>\n",
       "      <td>c</td>\n",
       "      <td>2</td>\n",
       "      <td>draw</td>\n",
       "      <td>0</td>\n",
       "    </tr>\n",
       "    <tr>\n",
       "      <th>2</th>\n",
       "      <td>a</td>\n",
       "      <td>1</td>\n",
       "      <td>c</td>\n",
       "      <td>1</td>\n",
       "      <td>d</td>\n",
       "      <td>1</td>\n",
       "      <td>draw</td>\n",
       "      <td>0</td>\n",
       "    </tr>\n",
       "    <tr>\n",
       "      <th>3</th>\n",
       "      <td>a</td>\n",
       "      <td>1</td>\n",
       "      <td>c</td>\n",
       "      <td>1</td>\n",
       "      <td>d</td>\n",
       "      <td>2</td>\n",
       "      <td>draw</td>\n",
       "      <td>0</td>\n",
       "    </tr>\n",
       "    <tr>\n",
       "      <th>4</th>\n",
       "      <td>a</td>\n",
       "      <td>1</td>\n",
       "      <td>c</td>\n",
       "      <td>2</td>\n",
       "      <td>c</td>\n",
       "      <td>1</td>\n",
       "      <td>draw</td>\n",
       "      <td>0</td>\n",
       "    </tr>\n",
       "  </tbody>\n",
       "</table>\n",
       "</div>"
      ],
      "text/plain": [
       "  white_king_file white_king_rank white_rook_file white_rook_rank  \\\n",
       "0               a               1               b               3   \n",
       "1               a               1               c               1   \n",
       "2               a               1               c               1   \n",
       "3               a               1               c               1   \n",
       "4               a               1               c               2   \n",
       "\n",
       "  black_king_file black_king_rank result  win  \n",
       "0               c               2   draw    0  \n",
       "1               c               2   draw    0  \n",
       "2               d               1   draw    0  \n",
       "3               d               2   draw    0  \n",
       "4               c               1   draw    0  "
      ]
     },
     "execution_count": 69,
     "metadata": {},
     "output_type": "execute_result"
    }
   ],
   "source": [
    "df.head()"
   ]
  },
  {
   "cell_type": "code",
   "execution_count": 81,
   "metadata": {},
   "outputs": [
    {
     "name": "stdout",
     "output_type": "stream",
     "text": [
      "win ~ white_king_file + white_king_rank + white_rook_file + white_rook_rank + black_king_file + black_king_rank\n",
      "Optimization terminated successfully.\n",
      "         Current function value: 0.312907\n",
      "         Iterations 6\n"
     ]
    },
    {
     "data": {
      "text/html": [
       "<table class=\"simpletable\">\n",
       "<caption>Probit Regression Results</caption>\n",
       "<tr>\n",
       "  <th>Dep. Variable:</th>          <td>win</td>       <th>  No. Observations:  </th>   <td> 28056</td>  \n",
       "</tr>\n",
       "<tr>\n",
       "  <th>Model:</th>                <td>Probit</td>      <th>  Df Residuals:      </th>   <td> 28021</td>  \n",
       "</tr>\n",
       "<tr>\n",
       "  <th>Method:</th>                 <td>MLE</td>       <th>  Df Model:          </th>   <td>    34</td>  \n",
       "</tr>\n",
       "<tr>\n",
       "  <th>Date:</th>            <td>Sat, 05 Jun 2021</td> <th>  Pseudo R-squ.:     </th>   <td>0.03522</td> \n",
       "</tr>\n",
       "<tr>\n",
       "  <th>Time:</th>                <td>15:46:38</td>     <th>  Log-Likelihood:    </th>  <td> -8778.9</td> \n",
       "</tr>\n",
       "<tr>\n",
       "  <th>converged:</th>             <td>True</td>       <th>  LL-Null:           </th>  <td> -9099.4</td> \n",
       "</tr>\n",
       "<tr>\n",
       "  <th>Covariance Type:</th>     <td>nonrobust</td>    <th>  LLR p-value:       </th> <td>4.021e-113</td>\n",
       "</tr>\n",
       "</table>\n",
       "<table class=\"simpletable\">\n",
       "<tr>\n",
       "            <td></td>              <th>coef</th>     <th>std err</th>      <th>z</th>      <th>P>|z|</th>  <th>[0.025</th>    <th>0.975]</th>  \n",
       "</tr>\n",
       "<tr>\n",
       "  <th>Intercept</th>            <td>    2.1759</td> <td>    0.076</td> <td>   28.506</td> <td> 0.000</td> <td>    2.026</td> <td>    2.326</td>\n",
       "</tr>\n",
       "<tr>\n",
       "  <th>white_king_file[T.b]</th> <td>    0.0115</td> <td>    0.047</td> <td>    0.243</td> <td> 0.808</td> <td>   -0.081</td> <td>    0.105</td>\n",
       "</tr>\n",
       "<tr>\n",
       "  <th>white_king_file[T.c]</th> <td>    0.0212</td> <td>    0.047</td> <td>    0.451</td> <td> 0.652</td> <td>   -0.071</td> <td>    0.113</td>\n",
       "</tr>\n",
       "<tr>\n",
       "  <th>white_king_file[T.d]</th> <td>    0.0262</td> <td>    0.048</td> <td>    0.550</td> <td> 0.583</td> <td>   -0.067</td> <td>    0.120</td>\n",
       "</tr>\n",
       "<tr>\n",
       "  <th>white_king_rank[T.2]</th> <td>    0.0149</td> <td>    0.026</td> <td>    0.583</td> <td> 0.560</td> <td>   -0.035</td> <td>    0.065</td>\n",
       "</tr>\n",
       "<tr>\n",
       "  <th>white_king_rank[T.3]</th> <td>    0.0296</td> <td>    0.032</td> <td>    0.918</td> <td> 0.359</td> <td>   -0.034</td> <td>    0.093</td>\n",
       "</tr>\n",
       "<tr>\n",
       "  <th>white_king_rank[T.4]</th> <td>    0.0138</td> <td>    0.051</td> <td>    0.272</td> <td> 0.785</td> <td>   -0.086</td> <td>    0.113</td>\n",
       "</tr>\n",
       "<tr>\n",
       "  <th>white_rook_file[T.b]</th> <td>   -0.2029</td> <td>    0.047</td> <td>   -4.362</td> <td> 0.000</td> <td>   -0.294</td> <td>   -0.112</td>\n",
       "</tr>\n",
       "<tr>\n",
       "  <th>white_rook_file[T.c]</th> <td>   -0.1241</td> <td>    0.048</td> <td>   -2.605</td> <td> 0.009</td> <td>   -0.217</td> <td>   -0.031</td>\n",
       "</tr>\n",
       "<tr>\n",
       "  <th>white_rook_file[T.d]</th> <td>   -0.2131</td> <td>    0.047</td> <td>   -4.554</td> <td> 0.000</td> <td>   -0.305</td> <td>   -0.121</td>\n",
       "</tr>\n",
       "<tr>\n",
       "  <th>white_rook_file[T.e]</th> <td>   -0.3218</td> <td>    0.045</td> <td>   -7.128</td> <td> 0.000</td> <td>   -0.410</td> <td>   -0.233</td>\n",
       "</tr>\n",
       "<tr>\n",
       "  <th>white_rook_file[T.f]</th> <td>   -0.4753</td> <td>    0.044</td> <td>  -10.817</td> <td> 0.000</td> <td>   -0.561</td> <td>   -0.389</td>\n",
       "</tr>\n",
       "<tr>\n",
       "  <th>white_rook_file[T.g]</th> <td>   -0.5679</td> <td>    0.043</td> <td>  -13.123</td> <td> 0.000</td> <td>   -0.653</td> <td>   -0.483</td>\n",
       "</tr>\n",
       "<tr>\n",
       "  <th>white_rook_file[T.h]</th> <td>   -0.2872</td> <td>    0.045</td> <td>   -6.341</td> <td> 0.000</td> <td>   -0.376</td> <td>   -0.198</td>\n",
       "</tr>\n",
       "<tr>\n",
       "  <th>white_rook_rank[T.2]</th> <td>   -0.2224</td> <td>    0.045</td> <td>   -4.974</td> <td> 0.000</td> <td>   -0.310</td> <td>   -0.135</td>\n",
       "</tr>\n",
       "<tr>\n",
       "  <th>white_rook_rank[T.3]</th> <td>   -0.2362</td> <td>    0.045</td> <td>   -5.298</td> <td> 0.000</td> <td>   -0.324</td> <td>   -0.149</td>\n",
       "</tr>\n",
       "<tr>\n",
       "  <th>white_rook_rank[T.4]</th> <td>   -0.3213</td> <td>    0.044</td> <td>   -7.325</td> <td> 0.000</td> <td>   -0.407</td> <td>   -0.235</td>\n",
       "</tr>\n",
       "<tr>\n",
       "  <th>white_rook_rank[T.5]</th> <td>   -0.3485</td> <td>    0.044</td> <td>   -7.985</td> <td> 0.000</td> <td>   -0.434</td> <td>   -0.263</td>\n",
       "</tr>\n",
       "<tr>\n",
       "  <th>white_rook_rank[T.6]</th> <td>   -0.3285</td> <td>    0.044</td> <td>   -7.490</td> <td> 0.000</td> <td>   -0.414</td> <td>   -0.243</td>\n",
       "</tr>\n",
       "<tr>\n",
       "  <th>white_rook_rank[T.7]</th> <td>   -0.3031</td> <td>    0.044</td> <td>   -6.873</td> <td> 0.000</td> <td>   -0.389</td> <td>   -0.217</td>\n",
       "</tr>\n",
       "<tr>\n",
       "  <th>white_rook_rank[T.8]</th> <td>   -0.0067</td> <td>    0.047</td> <td>   -0.141</td> <td> 0.887</td> <td>   -0.100</td> <td>    0.086</td>\n",
       "</tr>\n",
       "<tr>\n",
       "  <th>black_king_file[T.b]</th> <td>   -0.2303</td> <td>    0.048</td> <td>   -4.840</td> <td> 0.000</td> <td>   -0.324</td> <td>   -0.137</td>\n",
       "</tr>\n",
       "<tr>\n",
       "  <th>black_king_file[T.c]</th> <td>   -0.2083</td> <td>    0.049</td> <td>   -4.214</td> <td> 0.000</td> <td>   -0.305</td> <td>   -0.111</td>\n",
       "</tr>\n",
       "<tr>\n",
       "  <th>black_king_file[T.d]</th> <td>   -0.2014</td> <td>    0.048</td> <td>   -4.196</td> <td> 0.000</td> <td>   -0.295</td> <td>   -0.107</td>\n",
       "</tr>\n",
       "<tr>\n",
       "  <th>black_king_file[T.e]</th> <td>   -0.2078</td> <td>    0.046</td> <td>   -4.517</td> <td> 0.000</td> <td>   -0.298</td> <td>   -0.118</td>\n",
       "</tr>\n",
       "<tr>\n",
       "  <th>black_king_file[T.f]</th> <td>   -0.2111</td> <td>    0.044</td> <td>   -4.781</td> <td> 0.000</td> <td>   -0.298</td> <td>   -0.125</td>\n",
       "</tr>\n",
       "<tr>\n",
       "  <th>black_king_file[T.g]</th> <td>   -0.2537</td> <td>    0.044</td> <td>   -5.829</td> <td> 0.000</td> <td>   -0.339</td> <td>   -0.168</td>\n",
       "</tr>\n",
       "<tr>\n",
       "  <th>black_king_file[T.h]</th> <td>    0.0306</td> <td>    0.045</td> <td>    0.673</td> <td> 0.501</td> <td>   -0.059</td> <td>    0.120</td>\n",
       "</tr>\n",
       "<tr>\n",
       "  <th>black_king_rank[T.2]</th> <td>   -0.2603</td> <td>    0.045</td> <td>   -5.830</td> <td> 0.000</td> <td>   -0.348</td> <td>   -0.173</td>\n",
       "</tr>\n",
       "<tr>\n",
       "  <th>black_king_rank[T.3]</th> <td>   -0.2373</td> <td>    0.044</td> <td>   -5.366</td> <td> 0.000</td> <td>   -0.324</td> <td>   -0.151</td>\n",
       "</tr>\n",
       "<tr>\n",
       "  <th>black_king_rank[T.4]</th> <td>   -0.2753</td> <td>    0.043</td> <td>   -6.357</td> <td> 0.000</td> <td>   -0.360</td> <td>   -0.190</td>\n",
       "</tr>\n",
       "<tr>\n",
       "  <th>black_king_rank[T.5]</th> <td>   -0.2972</td> <td>    0.043</td> <td>   -6.902</td> <td> 0.000</td> <td>   -0.382</td> <td>   -0.213</td>\n",
       "</tr>\n",
       "<tr>\n",
       "  <th>black_king_rank[T.6]</th> <td>   -0.3129</td> <td>    0.044</td> <td>   -7.181</td> <td> 0.000</td> <td>   -0.398</td> <td>   -0.228</td>\n",
       "</tr>\n",
       "<tr>\n",
       "  <th>black_king_rank[T.7]</th> <td>   -0.3370</td> <td>    0.044</td> <td>   -7.620</td> <td> 0.000</td> <td>   -0.424</td> <td>   -0.250</td>\n",
       "</tr>\n",
       "<tr>\n",
       "  <th>black_king_rank[T.8]</th> <td>   -0.0654</td> <td>    0.048</td> <td>   -1.358</td> <td> 0.174</td> <td>   -0.160</td> <td>    0.029</td>\n",
       "</tr>\n",
       "</table>"
      ],
      "text/plain": [
       "<class 'statsmodels.iolib.summary.Summary'>\n",
       "\"\"\"\n",
       "                          Probit Regression Results                           \n",
       "==============================================================================\n",
       "Dep. Variable:                    win   No. Observations:                28056\n",
       "Model:                         Probit   Df Residuals:                    28021\n",
       "Method:                           MLE   Df Model:                           34\n",
       "Date:                Sat, 05 Jun 2021   Pseudo R-squ.:                 0.03522\n",
       "Time:                        15:46:38   Log-Likelihood:                -8778.9\n",
       "converged:                       True   LL-Null:                       -9099.4\n",
       "Covariance Type:            nonrobust   LLR p-value:                4.021e-113\n",
       "========================================================================================\n",
       "                           coef    std err          z      P>|z|      [0.025      0.975]\n",
       "----------------------------------------------------------------------------------------\n",
       "Intercept                2.1759      0.076     28.506      0.000       2.026       2.326\n",
       "white_king_file[T.b]     0.0115      0.047      0.243      0.808      -0.081       0.105\n",
       "white_king_file[T.c]     0.0212      0.047      0.451      0.652      -0.071       0.113\n",
       "white_king_file[T.d]     0.0262      0.048      0.550      0.583      -0.067       0.120\n",
       "white_king_rank[T.2]     0.0149      0.026      0.583      0.560      -0.035       0.065\n",
       "white_king_rank[T.3]     0.0296      0.032      0.918      0.359      -0.034       0.093\n",
       "white_king_rank[T.4]     0.0138      0.051      0.272      0.785      -0.086       0.113\n",
       "white_rook_file[T.b]    -0.2029      0.047     -4.362      0.000      -0.294      -0.112\n",
       "white_rook_file[T.c]    -0.1241      0.048     -2.605      0.009      -0.217      -0.031\n",
       "white_rook_file[T.d]    -0.2131      0.047     -4.554      0.000      -0.305      -0.121\n",
       "white_rook_file[T.e]    -0.3218      0.045     -7.128      0.000      -0.410      -0.233\n",
       "white_rook_file[T.f]    -0.4753      0.044    -10.817      0.000      -0.561      -0.389\n",
       "white_rook_file[T.g]    -0.5679      0.043    -13.123      0.000      -0.653      -0.483\n",
       "white_rook_file[T.h]    -0.2872      0.045     -6.341      0.000      -0.376      -0.198\n",
       "white_rook_rank[T.2]    -0.2224      0.045     -4.974      0.000      -0.310      -0.135\n",
       "white_rook_rank[T.3]    -0.2362      0.045     -5.298      0.000      -0.324      -0.149\n",
       "white_rook_rank[T.4]    -0.3213      0.044     -7.325      0.000      -0.407      -0.235\n",
       "white_rook_rank[T.5]    -0.3485      0.044     -7.985      0.000      -0.434      -0.263\n",
       "white_rook_rank[T.6]    -0.3285      0.044     -7.490      0.000      -0.414      -0.243\n",
       "white_rook_rank[T.7]    -0.3031      0.044     -6.873      0.000      -0.389      -0.217\n",
       "white_rook_rank[T.8]    -0.0067      0.047     -0.141      0.887      -0.100       0.086\n",
       "black_king_file[T.b]    -0.2303      0.048     -4.840      0.000      -0.324      -0.137\n",
       "black_king_file[T.c]    -0.2083      0.049     -4.214      0.000      -0.305      -0.111\n",
       "black_king_file[T.d]    -0.2014      0.048     -4.196      0.000      -0.295      -0.107\n",
       "black_king_file[T.e]    -0.2078      0.046     -4.517      0.000      -0.298      -0.118\n",
       "black_king_file[T.f]    -0.2111      0.044     -4.781      0.000      -0.298      -0.125\n",
       "black_king_file[T.g]    -0.2537      0.044     -5.829      0.000      -0.339      -0.168\n",
       "black_king_file[T.h]     0.0306      0.045      0.673      0.501      -0.059       0.120\n",
       "black_king_rank[T.2]    -0.2603      0.045     -5.830      0.000      -0.348      -0.173\n",
       "black_king_rank[T.3]    -0.2373      0.044     -5.366      0.000      -0.324      -0.151\n",
       "black_king_rank[T.4]    -0.2753      0.043     -6.357      0.000      -0.360      -0.190\n",
       "black_king_rank[T.5]    -0.2972      0.043     -6.902      0.000      -0.382      -0.213\n",
       "black_king_rank[T.6]    -0.3129      0.044     -7.181      0.000      -0.398      -0.228\n",
       "black_king_rank[T.7]    -0.3370      0.044     -7.620      0.000      -0.424      -0.250\n",
       "black_king_rank[T.8]    -0.0654      0.048     -1.358      0.174      -0.160       0.029\n",
       "========================================================================================\n",
       "\"\"\""
      ]
     },
     "execution_count": 81,
     "metadata": {},
     "output_type": "execute_result"
    }
   ],
   "source": [
    "formula_str = 'win ~ '\n",
    "col_list = []\n",
    "for col in df.columns:\n",
    "    if col != 'result' and col != 'win':\n",
    "        formula_str += col + ' + '\n",
    "        col_list.append(col)\n",
    "    \n",
    "formula_str = formula_str[0:len(formula_str) - 3] # remove last plus sign    \n",
    "print(formula_str)\n",
    "\n",
    "probit_model = smf.probit(data = df, formula = formula_str).fit()\n",
    "probit_model.summary()"
   ]
  },
  {
   "cell_type": "markdown",
   "metadata": {},
   "source": [
    "white king's ocation seem's meaningless, most of everything else is meaningful"
   ]
  },
  {
   "cell_type": "markdown",
   "metadata": {},
   "source": [
    "Multinomial probit on result variable is also possible, but would have 17 different models, not very readable"
   ]
  },
  {
   "cell_type": "markdown",
   "metadata": {},
   "source": [
    "# Sklearn - No Parameter Tuning, No Scaling"
   ]
  },
  {
   "cell_type": "markdown",
   "metadata": {},
   "source": [
    "Won't have time to analyze individual boards in Santorini. Will need to rely on on predictions"
   ]
  },
  {
   "cell_type": "markdown",
   "metadata": {},
   "source": [
    "## Data Setup"
   ]
  },
  {
   "cell_type": "code",
   "execution_count": 94,
   "metadata": {},
   "outputs": [],
   "source": [
    "from sklearn.model_selection import train_test_split\n",
    "from sklearn.preprocessing import StandardScaler"
   ]
  },
  {
   "cell_type": "code",
   "execution_count": 97,
   "metadata": {},
   "outputs": [],
   "source": [
    "col_list = []\n",
    "for col in dummy_df.columns:\n",
    "    if col != 'win' and col != 'result':\n",
    "        col_list.append(col)\n",
    "\n",
    "X = dummy_df.loc[:, col_list]\n",
    "y = dummy_df['win']\n",
    "X_train, X_test, y_train, y_test = train_test_split(X, y, test_size=0.2, random_state=0, stratify=y)"
   ]
  },
  {
   "cell_type": "code",
   "execution_count": 132,
   "metadata": {},
   "outputs": [
    {
     "data": {
      "text/plain": [
       "Counter({1: 5053, 0: 559})"
      ]
     },
     "execution_count": 132,
     "metadata": {},
     "output_type": "execute_result"
    }
   ],
   "source": [
    "Counter(y_test)"
   ]
  },
  {
   "cell_type": "markdown",
   "metadata": {},
   "source": [
    "Next piece will remain commented out. Don't need to scale binary variables. But good practice to do it anyway"
   ]
  },
  {
   "cell_type": "code",
   "execution_count": 96,
   "metadata": {},
   "outputs": [],
   "source": [
    "# scaler = StandardScaler()\n",
    "# scaler.fit(X_train)\n",
    "# X_train = scaler.transform(X_train)\n",
    "# X_test = scaler.transform(X_test)"
   ]
  },
  {
   "cell_type": "code",
   "execution_count": 161,
   "metadata": {},
   "outputs": [],
   "source": [
    "def get_predictions(model, X_train, y_train, X_test):\n",
    "    model.fit(X_train, y_train)\n",
    "    y_pred_class = model.predict(X_test)\n",
    "    y_pred_prob = model.predict_proba(X_test)\n",
    "    y_pred_prob = [elem[1] for elem in y_pred_prob]\n",
    "    \n",
    "    return y_pred_class, y_pred_prob"
   ]
  },
  {
   "cell_type": "code",
   "execution_count": 162,
   "metadata": {},
   "outputs": [],
   "source": [
    "def analyze_accuracy(y_test, y_pred_prob, y_pred_class):\n",
    "    naive_pred = [1 for i in range(len(y_pred_class))]\n",
    "    \n",
    "    ns_auc = roc_auc_score(y_test, naive_pred)\n",
    "    md_auc = roc_auc_score(y_test, y_pred_prob)\n",
    "    print('No Skill: ROC AUC=%.3f' % (ns_auc))\n",
    "    print('Model   : ROC AUC=%.3f' % (md_auc))\n",
    "    \n",
    "    cm = confusion_matrix(y_test, y_pred_class)\n",
    "    sns.heatmap(cm, annot=True)\n",
    "    plt.show()\n",
    "    \n",
    "    ns_fpr, ns_tpr, _ = roc_curve(y_test, naive_pred)\n",
    "    lr_fpr, lr_tpr, _ = roc_curve(y_test, y_pred_prob)\n",
    "    # plot the roc curve for the model\n",
    "    plt.plot(ns_fpr, ns_tpr, linestyle='--', label='No Skill')\n",
    "    plt.plot(lr_fpr, lr_tpr, marker='.', label='Model')\n",
    "    plt.xlabel('False Positive Rate')\n",
    "    plt.ylabel('True Positive Rate')\n",
    "    # show the legend\n",
    "    plt.legend()\n",
    "    # show the plot\n",
    "    plt.show()"
   ]
  },
  {
   "cell_type": "markdown",
   "metadata": {},
   "source": [
    "## Model 1: Linear SVM"
   ]
  },
  {
   "cell_type": "code",
   "execution_count": 167,
   "metadata": {},
   "outputs": [],
   "source": [
    "linear_svc = SVC(kernel='linear', random_state=0, probability = True)\n",
    "y_pred_class, y_pred_prob = get_predictions(linear_svc, X_train, y_train, X_test)"
   ]
  },
  {
   "cell_type": "code",
   "execution_count": 158,
   "metadata": {},
   "outputs": [
    {
     "name": "stdout",
     "output_type": "stream",
     "text": [
      "No Skill: ROC AUC=0.500\n",
      "Model   : ROC AUC=0.481\n"
     ]
    },
    {
     "data": {
      "image/png": "[encoded data removed]",
      "text/plain": [
       "<Figure size 432x288 with 2 Axes>"
      ]
     },
     "metadata": {
      "needs_background": "light"
     },
     "output_type": "display_data"
    },
    {
     "data": {
      "image/png": "[encoded data removed]",
      "text/plain": [
       "<Figure size 432x288 with 1 Axes>"
      ]
     },
     "metadata": {
      "needs_background": "light"
     },
     "output_type": "display_data"
    }
   ],
   "source": [
    "analyze_accuracy(y_test, y_pred_prob, y_pred_class)"
   ]
  },
  {
   "cell_type": "markdown",
   "metadata": {},
   "source": [
    "SVM is worse than nothing!"
   ]
  },
  {
   "cell_type": "markdown",
   "metadata": {},
   "source": [
    "# Model 2: Non-linear SVM"
   ]
  },
  {
   "cell_type": "code",
   "execution_count": 165,
   "metadata": {},
   "outputs": [],
   "source": [
    "kernel_svc = SVC(kernel='rbf', gamma = 'auto', random_state=0, probability = True)\n",
    "y_pred_class_rbf, y_pred_prob_rbf = get_predictions(kernel_svc, X_train, y_train, X_test)"
   ]
  },
  {
   "cell_type": "code",
   "execution_count": 166,
   "metadata": {},
   "outputs": [
    {
     "name": "stdout",
     "output_type": "stream",
     "text": [
      "No Skill: ROC AUC=0.500\n",
      "Model   : ROC AUC=0.999\n"
     ]
    },
    {
     "data": {
      "image/png": "[encoded data removed]",
      "text/plain": [
       "<Figure size 432x288 with 2 Axes>"
      ]
     },
     "metadata": {
      "needs_background": "light"
     },
     "output_type": "display_data"
    },
    {
     "data": {
      "image/png": "[encoded data removed]",
      "text/plain": [
       "<Figure size 432x288 with 1 Axes>"
      ]
     },
     "metadata": {
      "needs_background": "light"
     },
     "output_type": "display_data"
    }
   ],
   "source": [
    "analyze_accuracy(y_test, y_pred_prob_rbf, y_pred_class_rbf)"
   ]
  },
  {
   "cell_type": "markdown",
   "metadata": {},
   "source": [
    "What happened to the ROC curve? Separate note: model is still useless"
   ]
  },
  {
   "cell_type": "code",
   "execution_count": 171,
   "metadata": {},
   "outputs": [
    {
     "data": {
      "text/plain": [
       "<matplotlib.axes._subplots.AxesSubplot at 0x1aaaf61ad08>"
      ]
     },
     "execution_count": 171,
     "metadata": {},
     "output_type": "execute_result"
    },
    {
     "data": {
      "image/png": "[encoded data removed]",
      "text/plain": [
       "<Figure size 432x288 with 1 Axes>"
      ]
     },
     "metadata": {
      "needs_background": "light"
     },
     "output_type": "display_data"
    }
   ],
   "source": [
    "sns.distplot(y_pred_prob_rbf)"
   ]
  },
  {
   "cell_type": "code",
   "execution_count": 172,
   "metadata": {},
   "outputs": [
    {
     "data": {
      "text/plain": [
       "<matplotlib.axes._subplots.AxesSubplot at 0x1aaad960b08>"
      ]
     },
     "execution_count": 172,
     "metadata": {},
     "output_type": "execute_result"
    },
    {
     "data": {
      "image/png": "[encoded data removed]",
      "text/plain": [
       "<Figure size 432x288 with 1 Axes>"
      ]
     },
     "metadata": {
      "needs_background": "light"
     },
     "output_type": "display_data"
    }
   ],
   "source": [
    "sns.distplot(y_pred_prob)"
   ]
  },
  {
   "cell_type": "markdown",
   "metadata": {},
   "source": [
    "Kernel RBF predicts some low values. Linear RBF predicts ONLY high ones"
   ]
  },
  {
   "cell_type": "markdown",
   "metadata": {},
   "source": [
    "## Model 3: Decision Trees - Bagging"
   ]
  },
  {
   "cell_type": "code",
   "execution_count": 180,
   "metadata": {},
   "outputs": [],
   "source": [
    "from sklearn.ensemble import RandomForestClassifier\n",
    "\n",
    "rf_model = RandomForestClassifier(n_estimators=100, random_state=0)\n",
    "\n",
    "y_pred_class_rf, y_pred_prob_rf = get_predictions(rf_model, X_train, y_train, X_test)"
   ]
  },
  {
   "cell_type": "code",
   "execution_count": 181,
   "metadata": {},
   "outputs": [
    {
     "name": "stdout",
     "output_type": "stream",
     "text": [
      "No Skill: ROC AUC=0.500\n",
      "Model   : ROC AUC=0.999\n"
     ]
    },
    {
     "data": {
      "image/png": "[encoded data removed]",
      "text/plain": [
       "<Figure size 432x288 with 2 Axes>"
      ]
     },
     "metadata": {
      "needs_background": "light"
     },
     "output_type": "display_data"
    },
    {
     "data": {
      "image/png": "[encoded data removed]",
      "text/plain": [
       "<Figure size 432x288 with 1 Axes>"
      ]
     },
     "metadata": {
      "needs_background": "light"
     },
     "output_type": "display_data"
    }
   ],
   "source": [
    "analyze_accuracy(y_test, y_pred_prob_rf, y_pred_class_rf)"
   ]
  },
  {
   "cell_type": "markdown",
   "metadata": {},
   "source": [
    "Hey! Some correctly predicted 0s now!"
   ]
  },
  {
   "cell_type": "code",
   "execution_count": 186,
   "metadata": {},
   "outputs": [],
   "source": [
    "from xgboost import XGBClassifier\n",
    "xgb = XGBClassifier(booster='gbtree', random_state=0)"
   ]
  },
  {
   "cell_type": "code",
   "execution_count": 187,
   "metadata": {},
   "outputs": [],
   "source": [
    "y_pred_class_xg, y_pred_prob_xg = get_predictions(xgb, X_train, y_train, X_test)"
   ]
  },
  {
   "cell_type": "code",
   "execution_count": 188,
   "metadata": {},
   "outputs": [
    {
     "name": "stdout",
     "output_type": "stream",
     "text": [
      "No Skill: ROC AUC=0.500\n",
      "Model   : ROC AUC=1.000\n"
     ]
    },
    {
     "data": {
      "image/png": "[encoded data removed]",
      "text/plain": [
       "<Figure size 432x288 with 2 Axes>"
      ]
     },
     "metadata": {
      "needs_background": "light"
     },
     "output_type": "display_data"
    },
    {
     "data": {
      "image/png": "[encoded data removed]",
      "text/plain": [
       "<Figure size 432x288 with 1 Axes>"
      ]
     },
     "metadata": {
      "needs_background": "light"
     },
     "output_type": "display_data"
    }
   ],
   "source": [
    "analyze_accuracy(y_test, y_pred_prob_xg, y_pred_class_xg)"
   ]
  },
  {
   "cell_type": "code",
   "execution_count": null,
   "metadata": {},
   "outputs": [],
   "source": [
    "Onl"
   ]
  }
 ],
 "metadata": {
  "kernelspec": {
   "display_name": "Python 3",
   "language": "python",
   "name": "python3"
  },
  "language_info": {
   "codemirror_mode": {
    "name": "ipython",
    "version": 3
   },
   "file_extension": ".py",
   "mimetype": "text/x-python",
   "name": "python",
   "nbconvert_exporter": "python",
   "pygments_lexer": "ipython3",
   "version": "3.7.6"
  }
 },
 "nbformat": 4,
 "nbformat_minor": 4
}
