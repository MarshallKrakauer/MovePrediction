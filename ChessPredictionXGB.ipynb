{
 "cells": [
  {
   "cell_type": "markdown",
   "metadata": {},
   "source": [
    "# Setup"
   ]
  },
  {
   "cell_type": "code",
   "execution_count": 3,
   "metadata": {},
   "outputs": [],
   "source": [
    "from collections import Counter\n",
    "import copy\n",
    "import seaborn as sns\n",
    "import matplotlib.pyplot as plt\n",
    "import numpy as np\n",
    "import pandas as pd\n",
    "from sklearn.calibration import CalibratedClassifierCV, calibration_curve, IsotonicRegression\n",
    "from sklearn.ensemble import RandomForestClassifier\n",
    "from sklearn.metrics import confusion_matrix, roc_curve, roc_auc_score\n",
    "from sklearn.model_selection import GridSearchCV, train_test_split\n",
    "from sklearn.preprocessing import StandardScaler\n",
    "from sklearn.svm import SVC\n",
    "import statsmodels.formula.api as smf\n",
    "import xgboost as xgb"
   ]
  },
  {
   "cell_type": "code",
   "execution_count": 4,
   "metadata": {},
   "outputs": [],
   "source": [
    "from ml_func import analyze_accuracy, get_predictions, plot_calibration\n",
    "from ml_func import setup_chess_data"
   ]
  },
  {
   "cell_type": "code",
   "execution_count": 5,
   "metadata": {},
   "outputs": [],
   "source": [
    "X_train, X_test, y_train, y_test = setup_chess_data()"
   ]
  },
  {
   "cell_type": "markdown",
   "metadata": {},
   "source": [
    "# Train and Predict"
   ]
  },
  {
   "cell_type": "code",
   "execution_count": 6,
   "metadata": {},
   "outputs": [],
   "source": [
    "test_obs = list(X_train.iloc[0, :].values)"
   ]
  },
  {
   "cell_type": "code",
   "execution_count": 7,
   "metadata": {},
   "outputs": [],
   "source": [
    "params = {'booster': 'gbtree', 'eval_metric': 'logloss', 'max_depth': 3,\n",
    "          'gamma': 0.1, 'colsample_bytree': 1, 'subsample': 1, 'min_child_weight': 3, 'n_jobs': -1,\n",
    "         'objective': 'binary:logistic'}\n",
    "xgb_matrix = xgb.DMatrix(X_train, label=y_train)\n",
    "booster = xgb.train(params=params, dtrain=xgb_matrix, num_boost_round=100)"
   ]
  },
  {
   "cell_type": "code",
   "execution_count": 8,
   "metadata": {
    "scrolled": true
   },
   "outputs": [
    {
     "name": "stdout",
     "output_type": "stream",
     "text": [
      "[0.99814034]\n"
     ]
    }
   ],
   "source": [
    "temp = xgb.DMatrix(np.array([test_obs]), feature_names = X_train.columns)\n",
    "test = booster.predict(temp)\n",
    "print(test)"
   ]
  },
  {
   "cell_type": "code",
   "execution_count": 9,
   "metadata": {},
   "outputs": [
    {
     "name": "stdout",
     "output_type": "stream",
     "text": [
      "Actual 1.0 Prediction 0.99846613\n",
      "Actual 1.0 Prediction 0.7642213\n",
      "Actual 1.0 Prediction 0.9997167\n",
      "Actual 1.0 Prediction 0.99910516\n",
      "Actual 1.0 Prediction 0.99709964\n",
      "Actual 0.0 Prediction 0.18769038\n",
      "Actual 1.0 Prediction 0.99842584\n",
      "Actual 1.0 Prediction 0.9143439\n",
      "Actual 1.0 Prediction 0.9215073\n",
      "Actual 1.0 Prediction 0.99781775\n",
      "Actual 1.0 Prediction 0.9979882\n",
      "Actual 1.0 Prediction 0.99657094\n",
      "Actual 1.0 Prediction 0.9535337\n",
      "Actual 1.0 Prediction 0.9501249\n",
      "Actual 1.0 Prediction 0.9795711\n",
      "Actual 1.0 Prediction 0.94892275\n",
      "Actual 1.0 Prediction 0.9912723\n",
      "Actual 1.0 Prediction 0.9996569\n",
      "Actual 1.0 Prediction 0.99218595\n",
      "Actual 1.0 Prediction 0.9999126\n"
     ]
    }
   ],
   "source": [
    "preds = booster.predict(xgb.DMatrix(X_test))\n",
    "for x in range(20):\n",
    "    print('Actual', y_test.values[x], 'Prediction', preds[x])"
   ]
  },
  {
   "cell_type": "code",
   "execution_count": 10,
   "metadata": {},
   "outputs": [
    {
     "data": {
      "image/png": "[encoded data removed]",
      "text/plain": [
       "<Figure size 432x288 with 1 Axes>"
      ]
     },
     "metadata": {
      "needs_background": "light"
     },
     "output_type": "display_data"
    }
   ],
   "source": [
    "plot_calibration(y_test, preds)"
   ]
  },
  {
   "cell_type": "code",
   "execution_count": 11,
   "metadata": {},
   "outputs": [
    {
     "name": "stdout",
     "output_type": "stream",
     "text": [
      "Optimization terminated successfully.\n",
      "         Current function value: 0.018245\n",
      "         Iterations 11\n",
      "                           Logit Regression Results                           \n",
      "==============================================================================\n",
      "Dep. Variable:                 actual   No. Observations:                 5612\n",
      "Model:                          Logit   Df Residuals:                     5610\n",
      "Method:                           MLE   Df Model:                            1\n",
      "Date:                Tue, 14 Sep 2021   Pseudo R-squ.:                  0.9437\n",
      "Time:                        17:35:17   Log-Likelihood:                -102.39\n",
      "converged:                       True   LL-Null:                       -1819.5\n",
      "Covariance Type:            nonrobust   LLR p-value:                     0.000\n",
      "==============================================================================\n",
      "                 coef    std err          z      P>|z|      [0.025      0.975]\n",
      "------------------------------------------------------------------------------\n",
      "Intercept    -11.3050      0.682    -16.572      0.000     -12.642      -9.968\n",
      "pred          19.7187      1.173     16.810      0.000      17.419      22.018\n",
      "==============================================================================\n"
     ]
    }
   ],
   "source": [
    "#test = smf.logit()\n",
    "prediction_df = pd.DataFrame(data = {'actual': y_test, 'pred': preds})\n",
    "logit = smf.logit(data = prediction_df, formula = 'actual ~ pred').fit()\n",
    "print(logit.summary())"
   ]
  },
  {
   "cell_type": "code",
   "execution_count": 12,
   "metadata": {},
   "outputs": [],
   "source": [
    "new_df = pd.DataFrame(data = {'Intercept' : preds, 'pred':preds})\n",
    "new_df['Intercept'] = 1\n",
    "new_values = logit.predict(new_df)"
   ]
  },
  {
   "cell_type": "code",
   "execution_count": 13,
   "metadata": {},
   "outputs": [
    {
     "data": {
      "image/png": "[encoded data removed]",
      "text/plain": [
       "<Figure size 432x288 with 1 Axes>"
      ]
     },
     "metadata": {
      "needs_background": "light"
     },
     "output_type": "display_data"
    }
   ],
   "source": [
    "plot_calibration(y_test, new_values)"
   ]
  },
  {
   "cell_type": "raw",
   "metadata": {},
   "source": [
    "Makes things worse. Probably an issue of overfitting, since it lacks the implicit train/validation split of the sklearn API."
   ]
  }
 ],
 "metadata": {
  "kernelspec": {
   "display_name": "Python 3",
   "language": "python",
   "name": "python3"
  },
  "language_info": {
   "codemirror_mode": {
    "name": "ipython",
    "version": 3
   },
   "file_extension": ".py",
   "mimetype": "text/x-python",
   "name": "python",
   "nbconvert_exporter": "python",
   "pygments_lexer": "ipython3",
   "version": "3.7.6"
  }
 },
 "nbformat": 4,
 "nbformat_minor": 4
}
